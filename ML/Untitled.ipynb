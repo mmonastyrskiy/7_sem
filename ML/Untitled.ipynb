{
 "cells": [
  {
   "cell_type": "code",
   "execution_count": 11,
   "id": "e8f193f4-f062-414d-9733-ac7a5a8e2958",
   "metadata": {},
   "outputs": [],
   "source": [
    "def ROT(text:str, offset: int) -> str:\n",
    "    cypher = \"\"\n",
    "    text = text.lower()\n",
    "    for letter in text:\n",
    "        if (ord(letter) + offset) <= ord('z'):\n",
    "            cypher += chr(ord(letter) + offset)\n",
    "        elif (ord(letter) + offset) < ord('a'):\n",
    "            cypher += chr(ord(letter) + offset + ord('a'))\n",
    "        else:\n",
    "            cypher += chr(ord(letter) + offset - ord('a'))\n",
    "    return cypher\n",
    "            "
   ]
  },
  {
   "cell_type": "raw",
   "id": "8f3c272d-22a8-4f09-ae23-0568b59ed030",
   "metadata": {},
   "source": [
    "ROT(\"abc\")"
   ]
  },
  {
   "cell_type": "code",
   "execution_count": 12,
   "id": "207702c8-da89-47a1-9986-5cbe2f4a16e4",
   "metadata": {},
   "outputs": [
    {
     "name": "stdout",
     "output_type": "stream",
     "text": [
      "efg\n",
      "\u001d",
      "\u001b\u001c",
      "\n",
      "abc\n"
     ]
    }
   ],
   "source": [
    "print(ROT(\"ABC\",4))\n",
    "print(ROT(\"ZXY\",4))\n",
    "print(ROT(\"efg\",-4))"
   ]
  },
  {
   "cell_type": "code",
   "execution_count": null,
   "id": "6e1db68b-7c34-4356-a6e9-d9707b05e251",
   "metadata": {},
   "outputs": [],
   "source": []
  }
 ],
 "metadata": {
  "kernelspec": {
   "display_name": "Python 3 (ipykernel)",
   "language": "python",
   "name": "python3"
  },
  "language_info": {
   "codemirror_mode": {
    "name": "ipython",
    "version": 3
   },
   "file_extension": ".py",
   "mimetype": "text/x-python",
   "name": "python",
   "nbconvert_exporter": "python",
   "pygments_lexer": "ipython3",
   "version": "3.11.9"
  }
 },
 "nbformat": 4,
 "nbformat_minor": 5
}
