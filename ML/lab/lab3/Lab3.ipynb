{
  "nbformat": 4,
  "nbformat_minor": 0,
  "metadata": {
    "colab": {
      "provenance": []
    },
    "kernelspec": {
      "name": "python3",
      "display_name": "Python 3"
    },
    "language_info": {
      "name": "python"
    }
  },
  "cells": [
    {
      "cell_type": "code",
      "execution_count": null,
      "metadata": {
        "id": "J2bswW8uFDpu"
      },
      "outputs": [],
      "source": [
        "import pandas as pd\n",
        "from scipy import stats as st\n",
        "import rpy2.robjects.numpy2ri\n",
        "from rpy2.robjects.packages import importr\n",
        "import numpy as np\n",
        "from matplotlib import pyplot as plt\n",
        "from statsmodels.stats.stattools import durbin_watson as DW\n",
        "\n",
        "\n",
        "rpy2.robjects.numpy2ri.activate()\n",
        "stats = importr('stats')"
      ]
    },
    {
      "cell_type": "code",
      "source": [
        "df = pd.read_csv(\"data.csv\",usecols=[\"EmploymentField\",\n",
        "\"EmploymentStatus\", \"Gender\", \"JobPref\", \"JobWherePref\", \"MaritalStatus\", \"Income\"])\n",
        "df.Income = pd.to_numeric(df.Income)"
      ],
      "metadata": {
        "id": "8m7SQBONFae9"
      },
      "execution_count": null,
      "outputs": []
    },
    {
      "cell_type": "code",
      "source": [
        "df = df[df[\"Gender\"].isin([\"male\",\"female\"])]"
      ],
      "metadata": {
        "id": "E9wPatQeMGAS"
      },
      "execution_count": null,
      "outputs": []
    },
    {
      "cell_type": "code",
      "source": [
        "df.dropna(inplace=True)"
      ],
      "metadata": {
        "id": "kBi6uJ6vFfRn"
      },
      "execution_count": null,
      "outputs": []
    },
    {
      "cell_type": "code",
      "source": [
        "df.dtypes"
      ],
      "metadata": {
        "colab": {
          "base_uri": "https://localhost:8080/",
          "height": 304
        },
        "id": "kiJ-QgrOFi4y",
        "outputId": "9dd3063c-bc1c-4a41-87cc-59c311c437aa"
      },
      "execution_count": null,
      "outputs": [
        {
          "output_type": "execute_result",
          "data": {
            "text/plain": [
              "EmploymentField      object\n",
              "EmploymentStatus     object\n",
              "Gender               object\n",
              "Income              float64\n",
              "JobPref              object\n",
              "JobWherePref         object\n",
              "MaritalStatus        object\n",
              "dtype: object"
            ],
            "text/html": [
              "<div>\n",
              "<style scoped>\n",
              "    .dataframe tbody tr th:only-of-type {\n",
              "        vertical-align: middle;\n",
              "    }\n",
              "\n",
              "    .dataframe tbody tr th {\n",
              "        vertical-align: top;\n",
              "    }\n",
              "\n",
              "    .dataframe thead th {\n",
              "        text-align: right;\n",
              "    }\n",
              "</style>\n",
              "<table border=\"1\" class=\"dataframe\">\n",
              "  <thead>\n",
              "    <tr style=\"text-align: right;\">\n",
              "      <th></th>\n",
              "      <th>0</th>\n",
              "    </tr>\n",
              "  </thead>\n",
              "  <tbody>\n",
              "    <tr>\n",
              "      <th>EmploymentField</th>\n",
              "      <td>object</td>\n",
              "    </tr>\n",
              "    <tr>\n",
              "      <th>EmploymentStatus</th>\n",
              "      <td>object</td>\n",
              "    </tr>\n",
              "    <tr>\n",
              "      <th>Gender</th>\n",
              "      <td>object</td>\n",
              "    </tr>\n",
              "    <tr>\n",
              "      <th>Income</th>\n",
              "      <td>float64</td>\n",
              "    </tr>\n",
              "    <tr>\n",
              "      <th>JobPref</th>\n",
              "      <td>object</td>\n",
              "    </tr>\n",
              "    <tr>\n",
              "      <th>JobWherePref</th>\n",
              "      <td>object</td>\n",
              "    </tr>\n",
              "    <tr>\n",
              "      <th>MaritalStatus</th>\n",
              "      <td>object</td>\n",
              "    </tr>\n",
              "  </tbody>\n",
              "</table>\n",
              "</div><br><label><b>dtype:</b> object</label>"
            ]
          },
          "metadata": {},
          "execution_count": 110
        }
      ]
    },
    {
      "cell_type": "code",
      "source": [
        "r = pd.crosstab(df.Gender,df.JobPref, margins=False)\n",
        "st.contingency.expected_freq(r)\n"
      ],
      "metadata": {
        "colab": {
          "base_uri": "https://localhost:8080/"
        },
        "id": "kdPDHwcRFxTU",
        "outputId": "24256e87-95ce-4736-be56-d411aa2b4340"
      },
      "execution_count": null,
      "outputs": [
        {
          "output_type": "execute_result",
          "data": {
            "text/plain": [
              "array([[ 73.80628272,  20.28010471,  32.91361257],\n",
              "       [370.19371728, 101.71989529, 165.08638743]])"
            ]
          },
          "metadata": {},
          "execution_count": 111
        }
      ]
    },
    {
      "cell_type": "code",
      "source": [
        "st.contingency.chi2_contingency(r,correction=False)"
      ],
      "metadata": {
        "colab": {
          "base_uri": "https://localhost:8080/"
        },
        "id": "C-PDX-hnSG72",
        "outputId": "a311446b-f9e7-4cca-91c6-699862dba13e"
      },
      "execution_count": null,
      "outputs": [
        {
          "output_type": "execute_result",
          "data": {
            "text/plain": [
              "Chi2ContingencyResult(statistic=2.9296663743177596, pvalue=0.2311165414688363, dof=2, expected_freq=array([[ 73.80628272,  20.28010471,  32.91361257],\n",
              "       [370.19371728, 101.71989529, 165.08638743]]))"
            ]
          },
          "metadata": {},
          "execution_count": 112
        }
      ]
    },
    {
      "cell_type": "code",
      "source": [
        "r = pd.crosstab(df.Gender,df.JobWherePref, margins=False)\n",
        "st.contingency.expected_freq(r)"
      ],
      "metadata": {
        "colab": {
          "base_uri": "https://localhost:8080/"
        },
        "id": "HDWPEuIJL0eQ",
        "outputId": "c2299a96-0f37-4fae-d57f-e1229f33eeaa"
      },
      "execution_count": null,
      "outputs": [
        {
          "output_type": "execute_result",
          "data": {
            "text/plain": [
              "array([[ 31.08507853,  62.17015707,  33.7447644 ],\n",
              "       [155.91492147, 311.82984293, 169.2552356 ]])"
            ]
          },
          "metadata": {},
          "execution_count": 113
        }
      ]
    },
    {
      "cell_type": "code",
      "source": [
        "st.contingency.chi2_contingency(r,correction=False)"
      ],
      "metadata": {
        "colab": {
          "base_uri": "https://localhost:8080/"
        },
        "id": "63IxWZseS2d6",
        "outputId": "3f31b8f5-abfc-4004-99a1-6c47d3ddb284"
      },
      "execution_count": null,
      "outputs": [
        {
          "output_type": "execute_result",
          "data": {
            "text/plain": [
              "Chi2ContingencyResult(statistic=2.468792878230615, pvalue=0.29101035183846335, dof=2, expected_freq=array([[ 31.08507853,  62.17015707,  33.7447644 ],\n",
              "       [155.91492147, 311.82984293, 169.2552356 ]]))"
            ]
          },
          "metadata": {},
          "execution_count": 114
        }
      ]
    },
    {
      "cell_type": "code",
      "source": [
        "r= pd.crosstab(df.JobWherePref,df.MaritalStatus, margins=False)\n",
        "st.contingency.expected_freq(r)"
      ],
      "metadata": {
        "colab": {
          "base_uri": "https://localhost:8080/"
        },
        "id": "PiaVVxXvM2eU",
        "outputId": "7743e96d-7445-4200-e516-36f51b132bcf"
      },
      "execution_count": null,
      "outputs": [
        {
          "output_type": "execute_result",
          "data": {
            "text/plain": [
              "array([[  9.05628272, 145.14528796,   1.95811518,  30.84031414],\n",
              "       [ 18.11256545, 290.29057592,   3.91623037,  61.68062827],\n",
              "       [  9.83115183, 157.56413613,   2.12565445,  33.47905759]])"
            ]
          },
          "metadata": {},
          "execution_count": 115
        }
      ]
    },
    {
      "cell_type": "code",
      "source": [
        "m = np.array(r.values)\n",
        "res = stats.fisher_test(m, simulate_p_value = False)\n",
        "print(res)"
      ],
      "metadata": {
        "colab": {
          "base_uri": "https://localhost:8080/"
        },
        "id": "V2xPc4PiTEUH",
        "outputId": "7e04f9b8-7b03-48bb-dbde-4c4c7986da07"
      },
      "execution_count": null,
      "outputs": [
        {
          "output_type": "stream",
          "name": "stdout",
          "text": [
            "\n",
            "\tFisher's Exact Test for Count Data\n",
            "\n",
            "data:  structure(c(12L, 14L, 11L, 153L, 291L, 149L, 2L, 2L, 4L, 20L, 67L, 39L), dim = 3:4)\n",
            "p-value = 0.06912\n",
            "alternative hypothesis: two.sided\n",
            "\n",
            "\n"
          ]
        }
      ]
    },
    {
      "cell_type": "code",
      "source": [
        "r = pd.crosstab(df.EmploymentField,df.JobWherePref, margins=False)\n",
        "st.contingency.expected_freq(r)"
      ],
      "metadata": {
        "colab": {
          "base_uri": "https://localhost:8080/"
        },
        "id": "SlHHu8alNG20",
        "outputId": "5018b87f-d026-46a0-b822-8c0394b5c157"
      },
      "execution_count": null,
      "outputs": [
        {
          "output_type": "execute_result",
          "data": {
            "text/plain": [
              "array([[  6.60863874,  13.21727749,   7.17408377],\n",
              "       [ 11.9934555 ,  23.98691099,  13.01963351],\n",
              "       [  3.91623037,   7.83246073,   4.2513089 ],\n",
              "       [ 24.72120419,  49.44240838,  26.83638743],\n",
              "       [  0.73429319,   1.46858639,   0.79712042],\n",
              "       [ 10.52486911,  21.04973822,  11.42539267],\n",
              "       [  7.83246073,  15.66492147,   8.5026178 ],\n",
              "       [ 10.28010471,  20.56020942,  11.15968586],\n",
              "       [  1.71335079,   3.42670157,   1.85994764],\n",
              "       [  1.71335079,   3.42670157,   1.85994764],\n",
              "       [ 17.13350785,  34.26701571,  18.59947644],\n",
              "       [ 11.9934555 ,  23.98691099,  13.01963351],\n",
              "       [  0.97905759,   1.95811518,   1.06282723],\n",
              "       [ 71.96073298, 143.92146597,  78.11780105],\n",
              "       [  4.89528796,   9.79057592,   5.31413613]])"
            ]
          },
          "metadata": {},
          "execution_count": 117
        }
      ]
    },
    {
      "cell_type": "code",
      "source": [
        "m = np.array(r.values)\n",
        "res = stats.fisher_test(m, simulate_p_value = True)\n",
        "print(res)"
      ],
      "metadata": {
        "colab": {
          "base_uri": "https://localhost:8080/"
        },
        "id": "zjjLdDIQTeoe",
        "outputId": "e175f58b-31d1-4ef0-aa56-00d0159aebc2"
      },
      "execution_count": null,
      "outputs": [
        {
          "output_type": "stream",
          "name": "stdout",
          "text": [
            "\n",
            "\tFisher's Exact Test for Count Data with simulated p-value (based on\n",
            "\t2000 replicates)\n",
            "\n",
            "data:  structure(c(8L, 17L, 1L, 29L, 1L, 8L, 9L, 10L, 1L, 2L, 14L, 11L, 0L, 69L, 7L, 15L, 25L, 11L, 46L, 1L, 27L, 13L, 18L, 4L, 3L, 33L, 22L, 4L, 143L, 9L, 4L, 7L, 4L, 26L, 1L, 8L, 10L, 14L, 2L, 2L, 23L, 16L, 0L, 82L, 4L), dim = c(15L, 3L))\n",
            "p-value = 0.5862\n",
            "alternative hypothesis: two.sided\n",
            "\n",
            "\n"
          ]
        }
      ]
    },
    {
      "cell_type": "code",
      "source": [
        "r = pd.crosstab(df.EmploymentStatus,df.JobWherePref, margins=False)\n",
        "st.contingency.expected_freq(r)"
      ],
      "metadata": {
        "colab": {
          "base_uri": "https://localhost:8080/"
        },
        "id": "3f2HWXAdNS-a",
        "outputId": "16540c0c-d6c8-48d1-a62c-084ece17b164"
      },
      "execution_count": null,
      "outputs": [
        {
          "output_type": "execute_result",
          "data": {
            "text/plain": [
              "array([[166.68455497, 333.36910995, 180.94633508],\n",
              "       [  4.65052356,   9.30104712,   5.04842932],\n",
              "       [ 15.66492147,  31.32984293,  17.0052356 ]])"
            ]
          },
          "metadata": {},
          "execution_count": 119
        }
      ]
    },
    {
      "cell_type": "code",
      "source": [
        "m = np.array(r.values)\n",
        "res = stats.fisher_test(m, simulate_p_value = True)\n",
        "print(res)"
      ],
      "metadata": {
        "colab": {
          "base_uri": "https://localhost:8080/"
        },
        "id": "9MHOEOV1NV6a",
        "outputId": "a7ad6b78-e67b-413a-de74-e26bcfd3c4e5"
      },
      "execution_count": null,
      "outputs": [
        {
          "output_type": "stream",
          "name": "stdout",
          "text": [
            "\n",
            "\tFisher's Exact Test for Count Data with simulated p-value (based on\n",
            "\t2000 replicates)\n",
            "\n",
            "data:  structure(c(164L, 5L, 18L, 330L, 10L, 34L, 187L, 4L, 12L), dim = c(3L, 3L))\n",
            "p-value = 0.6222\n",
            "alternative hypothesis: two.sided\n",
            "\n",
            "\n"
          ]
        }
      ]
    },
    {
      "cell_type": "code",
      "source": [
        "plt.hist(df[\"Income\"],bins=3)[1]"
      ],
      "metadata": {
        "colab": {
          "base_uri": "https://localhost:8080/",
          "height": 447
        },
        "id": "OhFfi_ZSVO33",
        "outputId": "57f58398-1bc4-4e40-e50e-d303be7bd676"
      },
      "execution_count": null,
      "outputs": [
        {
          "output_type": "execute_result",
          "data": {
            "text/plain": [
              "array([  6000.        ,  70666.66666667, 135333.33333333, 200000.        ])"
            ]
          },
          "metadata": {},
          "execution_count": 121
        },
        {
          "output_type": "display_data",
          "data": {
            "text/plain": [
              "<Figure size 640x480 with 1 Axes>"
            ],
            "image/png": "[encoded data removed]"
          },
          "metadata": {}
        }
      ]
    },
    {
      "cell_type": "code",
      "source": [
        "def categorize(income):\n",
        "  r = []\n",
        "  for i in income:\n",
        "    if(i <= 70667):\n",
        "      r.append(\"Low\")\n",
        "    elif (70667 < i <= 135333):\n",
        "      r.append(\"Mediun\")\n",
        "    else:\n",
        "      r.append(\"High\")\n",
        "  return r"
      ],
      "metadata": {
        "id": "y9RohQ5YXvr8"
      },
      "execution_count": null,
      "outputs": []
    },
    {
      "cell_type": "code",
      "source": [
        "df[\"IncomeCat\"] = categorize(df[\"Income\"].tolist())"
      ],
      "metadata": {
        "id": "8JvJgTmVaRLA"
      },
      "execution_count": null,
      "outputs": []
    },
    {
      "cell_type": "code",
      "source": [
        "df"
      ],
      "metadata": {
        "colab": {
          "base_uri": "https://localhost:8080/",
          "height": 632
        },
        "id": "yyZhNdWeafwM",
        "outputId": "e94fd2e2-ebc1-46d5-c755-64ebc4c88bd7"
      },
      "execution_count": null,
      "outputs": [
        {
          "output_type": "execute_result",
          "data": {
            "text/plain": [
              "                             EmploymentField    EmploymentStatus Gender  \\\n",
              "59                      software development  Employed for wages   male   \n",
              "71                                 education  Employed for wages   male   \n",
              "72                            transportation  Employed for wages   male   \n",
              "77     arts, entertainment, sports, or media  Employed for wages   male   \n",
              "90                                     sales  Employed for wages   male   \n",
              "...                                      ...                 ...    ...   \n",
              "15564                                finance  Employed for wages   male   \n",
              "15566                                finance  Employed for wages   male   \n",
              "15584            software development and IT  Employed for wages   male   \n",
              "15598                      food and beverage  Employed for wages   male   \n",
              "15616            software development and IT  Employed for wages   male   \n",
              "\n",
              "         Income                               JobPref  \\\n",
              "59      35000.0       work for a medium-sized company   \n",
              "71      56000.0  work for a multinational corporation   \n",
              "72      35000.0       work for a medium-sized company   \n",
              "77      65000.0       work for a medium-sized company   \n",
              "90      30000.0                    work for a startup   \n",
              "...         ...                                   ...   \n",
              "15564  200000.0       work for a medium-sized company   \n",
              "15566  200000.0                    work for a startup   \n",
              "15584  200000.0  work for a multinational corporation   \n",
              "15598  200000.0       work for a medium-sized company   \n",
              "15616   10000.0                    work for a startup   \n",
              "\n",
              "                             JobWherePref                    MaritalStatus  \\\n",
              "59     in an office with other developers  married or domestic partnership   \n",
              "71                              from home  married or domestic partnership   \n",
              "72                              from home  married or domestic partnership   \n",
              "77                              from home  married or domestic partnership   \n",
              "90     in an office with other developers            single, never married   \n",
              "...                                   ...                              ...   \n",
              "15564  in an office with other developers  married or domestic partnership   \n",
              "15566                       no preference  married or domestic partnership   \n",
              "15584  in an office with other developers  married or domestic partnership   \n",
              "15598                           from home  married or domestic partnership   \n",
              "15616  in an office with other developers            single, never married   \n",
              "\n",
              "      IncomeCat  \n",
              "59          Low  \n",
              "71          Low  \n",
              "72          Low  \n",
              "77          Low  \n",
              "90          Low  \n",
              "...         ...  \n",
              "15564      High  \n",
              "15566      High  \n",
              "15584      High  \n",
              "15598      High  \n",
              "15616       Low  \n",
              "\n",
              "[764 rows x 8 columns]"
            ],
            "text/html": [
              "\n",
              "  <div id=\"df-3611b265-b636-4fc0-96aa-fe35f304474a\" class=\"colab-df-container\">\n",
              "    <div>\n",
              "<style scoped>\n",
              "    .dataframe tbody tr th:only-of-type {\n",
              "        vertical-align: middle;\n",
              "    }\n",
              "\n",
              "    .dataframe tbody tr th {\n",
              "        vertical-align: top;\n",
              "    }\n",
              "\n",
              "    .dataframe thead th {\n",
              "        text-align: right;\n",
              "    }\n",
              "</style>\n",
              "<table border=\"1\" class=\"dataframe\">\n",
              "  <thead>\n",
              "    <tr style=\"text-align: right;\">\n",
              "      <th></th>\n",
              "      <th>EmploymentField</th>\n",
              "      <th>EmploymentStatus</th>\n",
              "      <th>Gender</th>\n",
              "      <th>Income</th>\n",
              "      <th>JobPref</th>\n",
              "      <th>JobWherePref</th>\n",
              "      <th>MaritalStatus</th>\n",
              "      <th>IncomeCat</th>\n",
              "    </tr>\n",
              "  </thead>\n",
              "  <tbody>\n",
              "    <tr>\n",
              "      <th>59</th>\n",
              "      <td>software development</td>\n",
              "      <td>Employed for wages</td>\n",
              "      <td>male</td>\n",
              "      <td>35000.0</td>\n",
              "      <td>work for a medium-sized company</td>\n",
              "      <td>in an office with other developers</td>\n",
              "      <td>married or domestic partnership</td>\n",
              "      <td>Low</td>\n",
              "    </tr>\n",
              "    <tr>\n",
              "      <th>71</th>\n",
              "      <td>education</td>\n",
              "      <td>Employed for wages</td>\n",
              "      <td>male</td>\n",
              "      <td>56000.0</td>\n",
              "      <td>work for a multinational corporation</td>\n",
              "      <td>from home</td>\n",
              "      <td>married or domestic partnership</td>\n",
              "      <td>Low</td>\n",
              "    </tr>\n",
              "    <tr>\n",
              "      <th>72</th>\n",
              "      <td>transportation</td>\n",
              "      <td>Employed for wages</td>\n",
              "      <td>male</td>\n",
              "      <td>35000.0</td>\n",
              "      <td>work for a medium-sized company</td>\n",
              "      <td>from home</td>\n",
              "      <td>married or domestic partnership</td>\n",
              "      <td>Low</td>\n",
              "    </tr>\n",
              "    <tr>\n",
              "      <th>77</th>\n",
              "      <td>arts, entertainment, sports, or media</td>\n",
              "      <td>Employed for wages</td>\n",
              "      <td>male</td>\n",
              "      <td>65000.0</td>\n",
              "      <td>work for a medium-sized company</td>\n",
              "      <td>from home</td>\n",
              "      <td>married or domestic partnership</td>\n",
              "      <td>Low</td>\n",
              "    </tr>\n",
              "    <tr>\n",
              "      <th>90</th>\n",
              "      <td>sales</td>\n",
              "      <td>Employed for wages</td>\n",
              "      <td>male</td>\n",
              "      <td>30000.0</td>\n",
              "      <td>work for a startup</td>\n",
              "      <td>in an office with other developers</td>\n",
              "      <td>single, never married</td>\n",
              "      <td>Low</td>\n",
              "    </tr>\n",
              "    <tr>\n",
              "      <th>...</th>\n",
              "      <td>...</td>\n",
              "      <td>...</td>\n",
              "      <td>...</td>\n",
              "      <td>...</td>\n",
              "      <td>...</td>\n",
              "      <td>...</td>\n",
              "      <td>...</td>\n",
              "      <td>...</td>\n",
              "    </tr>\n",
              "    <tr>\n",
              "      <th>15564</th>\n",
              "      <td>finance</td>\n",
              "      <td>Employed for wages</td>\n",
              "      <td>male</td>\n",
              "      <td>200000.0</td>\n",
              "      <td>work for a medium-sized company</td>\n",
              "      <td>in an office with other developers</td>\n",
              "      <td>married or domestic partnership</td>\n",
              "      <td>High</td>\n",
              "    </tr>\n",
              "    <tr>\n",
              "      <th>15566</th>\n",
              "      <td>finance</td>\n",
              "      <td>Employed for wages</td>\n",
              "      <td>male</td>\n",
              "      <td>200000.0</td>\n",
              "      <td>work for a startup</td>\n",
              "      <td>no preference</td>\n",
              "      <td>married or domestic partnership</td>\n",
              "      <td>High</td>\n",
              "    </tr>\n",
              "    <tr>\n",
              "      <th>15584</th>\n",
              "      <td>software development and IT</td>\n",
              "      <td>Employed for wages</td>\n",
              "      <td>male</td>\n",
              "      <td>200000.0</td>\n",
              "      <td>work for a multinational corporation</td>\n",
              "      <td>in an office with other developers</td>\n",
              "      <td>married or domestic partnership</td>\n",
              "      <td>High</td>\n",
              "    </tr>\n",
              "    <tr>\n",
              "      <th>15598</th>\n",
              "      <td>food and beverage</td>\n",
              "      <td>Employed for wages</td>\n",
              "      <td>male</td>\n",
              "      <td>200000.0</td>\n",
              "      <td>work for a medium-sized company</td>\n",
              "      <td>from home</td>\n",
              "      <td>married or domestic partnership</td>\n",
              "      <td>High</td>\n",
              "    </tr>\n",
              "    <tr>\n",
              "      <th>15616</th>\n",
              "      <td>software development and IT</td>\n",
              "      <td>Employed for wages</td>\n",
              "      <td>male</td>\n",
              "      <td>10000.0</td>\n",
              "      <td>work for a startup</td>\n",
              "      <td>in an office with other developers</td>\n",
              "      <td>single, never married</td>\n",
              "      <td>Low</td>\n",
              "    </tr>\n",
              "  </tbody>\n",
              "</table>\n",
              "<p>764 rows × 8 columns</p>\n",
              "</div>\n",
              "    <div class=\"colab-df-buttons\">\n",
              "\n",
              "  <div class=\"colab-df-container\">\n",
              "    <button class=\"colab-df-convert\" onclick=\"convertToInteractive('df-3611b265-b636-4fc0-96aa-fe35f304474a')\"\n",
              "            title=\"Convert this dataframe to an interactive table.\"\n",
              "            style=\"display:none;\">\n",
              "\n",
              "  <svg xmlns=\"http://www.w3.org/2000/svg\" height=\"24px\" viewBox=\"0 -960 960 960\">\n",
              "    <path d=\"M120-120v-720h720v720H120Zm60-500h600v-160H180v160Zm220 220h160v-160H400v160Zm0 220h160v-160H400v160ZM180-400h160v-160H180v160Zm440 0h160v-160H620v160ZM180-180h160v-160H180v160Zm440 0h160v-160H620v160Z\"/>\n",
              "  </svg>\n",
              "    </button>\n",
              "\n",
              "  <style>\n",
              "    .colab-df-container {\n",
              "      display:flex;\n",
              "      gap: 12px;\n",
              "    }\n",
              "\n",
              "    .colab-df-convert {\n",
              "      background-color: #E8F0FE;\n",
              "      border: none;\n",
              "      border-radius: 50%;\n",
              "      cursor: pointer;\n",
              "      display: none;\n",
              "      fill: #1967D2;\n",
              "      height: 32px;\n",
              "      padding: 0 0 0 0;\n",
              "      width: 32px;\n",
              "    }\n",
              "\n",
              "    .colab-df-convert:hover {\n",
              "      background-color: #E2EBFA;\n",
              "      box-shadow: 0px 1px 2px rgba(60, 64, 67, 0.3), 0px 1px 3px 1px rgba(60, 64, 67, 0.15);\n",
              "      fill: #174EA6;\n",
              "    }\n",
              "\n",
              "    .colab-df-buttons div {\n",
              "      margin-bottom: 4px;\n",
              "    }\n",
              "\n",
              "    [theme=dark] .colab-df-convert {\n",
              "      background-color: #3B4455;\n",
              "      fill: #D2E3FC;\n",
              "    }\n",
              "\n",
              "    [theme=dark] .colab-df-convert:hover {\n",
              "      background-color: #434B5C;\n",
              "      box-shadow: 0px 1px 3px 1px rgba(0, 0, 0, 0.15);\n",
              "      filter: drop-shadow(0px 1px 2px rgba(0, 0, 0, 0.3));\n",
              "      fill: #FFFFFF;\n",
              "    }\n",
              "  </style>\n",
              "\n",
              "    <script>\n",
              "      const buttonEl =\n",
              "        document.querySelector('#df-3611b265-b636-4fc0-96aa-fe35f304474a button.colab-df-convert');\n",
              "      buttonEl.style.display =\n",
              "        google.colab.kernel.accessAllowed ? 'block' : 'none';\n",
              "\n",
              "      async function convertToInteractive(key) {\n",
              "        const element = document.querySelector('#df-3611b265-b636-4fc0-96aa-fe35f304474a');\n",
              "        const dataTable =\n",
              "          await google.colab.kernel.invokeFunction('convertToInteractive',\n",
              "                                                    [key], {});\n",
              "        if (!dataTable) return;\n",
              "\n",
              "        const docLinkHtml = 'Like what you see? Visit the ' +\n",
              "          '<a target=\"_blank\" href=https://colab.research.google.com/notebooks/data_table.ipynb>data table notebook</a>'\n",
              "          + ' to learn more about interactive tables.';\n",
              "        element.innerHTML = '';\n",
              "        dataTable['output_type'] = 'display_data';\n",
              "        await google.colab.output.renderOutput(dataTable, element);\n",
              "        const docLink = document.createElement('div');\n",
              "        docLink.innerHTML = docLinkHtml;\n",
              "        element.appendChild(docLink);\n",
              "      }\n",
              "    </script>\n",
              "  </div>\n",
              "\n",
              "\n",
              "<div id=\"df-ada81470-58dd-4bab-98eb-1135e3295136\">\n",
              "  <button class=\"colab-df-quickchart\" onclick=\"quickchart('df-ada81470-58dd-4bab-98eb-1135e3295136')\"\n",
              "            title=\"Suggest charts\"\n",
              "            style=\"display:none;\">\n",
              "\n",
              "<svg xmlns=\"http://www.w3.org/2000/svg\" height=\"24px\"viewBox=\"0 0 24 24\"\n",
              "     width=\"24px\">\n",
              "    <g>\n",
              "        <path d=\"M19 3H5c-1.1 0-2 .9-2 2v14c0 1.1.9 2 2 2h14c1.1 0 2-.9 2-2V5c0-1.1-.9-2-2-2zM9 17H7v-7h2v7zm4 0h-2V7h2v10zm4 0h-2v-4h2v4z\"/>\n",
              "    </g>\n",
              "</svg>\n",
              "  </button>\n",
              "\n",
              "<style>\n",
              "  .colab-df-quickchart {\n",
              "      --bg-color: #E8F0FE;\n",
              "      --fill-color: #1967D2;\n",
              "      --hover-bg-color: #E2EBFA;\n",
              "      --hover-fill-color: #174EA6;\n",
              "      --disabled-fill-color: #AAA;\n",
              "      --disabled-bg-color: #DDD;\n",
              "  }\n",
              "\n",
              "  [theme=dark] .colab-df-quickchart {\n",
              "      --bg-color: #3B4455;\n",
              "      --fill-color: #D2E3FC;\n",
              "      --hover-bg-color: #434B5C;\n",
              "      --hover-fill-color: #FFFFFF;\n",
              "      --disabled-bg-color: #3B4455;\n",
              "      --disabled-fill-color: #666;\n",
              "  }\n",
              "\n",
              "  .colab-df-quickchart {\n",
              "    background-color: var(--bg-color);\n",
              "    border: none;\n",
              "    border-radius: 50%;\n",
              "    cursor: pointer;\n",
              "    display: none;\n",
              "    fill: var(--fill-color);\n",
              "    height: 32px;\n",
              "    padding: 0;\n",
              "    width: 32px;\n",
              "  }\n",
              "\n",
              "  .colab-df-quickchart:hover {\n",
              "    background-color: var(--hover-bg-color);\n",
              "    box-shadow: 0 1px 2px rgba(60, 64, 67, 0.3), 0 1px 3px 1px rgba(60, 64, 67, 0.15);\n",
              "    fill: var(--button-hover-fill-color);\n",
              "  }\n",
              "\n",
              "  .colab-df-quickchart-complete:disabled,\n",
              "  .colab-df-quickchart-complete:disabled:hover {\n",
              "    background-color: var(--disabled-bg-color);\n",
              "    fill: var(--disabled-fill-color);\n",
              "    box-shadow: none;\n",
              "  }\n",
              "\n",
              "  .colab-df-spinner {\n",
              "    border: 2px solid var(--fill-color);\n",
              "    border-color: transparent;\n",
              "    border-bottom-color: var(--fill-color);\n",
              "    animation:\n",
              "      spin 1s steps(1) infinite;\n",
              "  }\n",
              "\n",
              "  @keyframes spin {\n",
              "    0% {\n",
              "      border-color: transparent;\n",
              "      border-bottom-color: var(--fill-color);\n",
              "      border-left-color: var(--fill-color);\n",
              "    }\n",
              "    20% {\n",
              "      border-color: transparent;\n",
              "      border-left-color: var(--fill-color);\n",
              "      border-top-color: var(--fill-color);\n",
              "    }\n",
              "    30% {\n",
              "      border-color: transparent;\n",
              "      border-left-color: var(--fill-color);\n",
              "      border-top-color: var(--fill-color);\n",
              "      border-right-color: var(--fill-color);\n",
              "    }\n",
              "    40% {\n",
              "      border-color: transparent;\n",
              "      border-right-color: var(--fill-color);\n",
              "      border-top-color: var(--fill-color);\n",
              "    }\n",
              "    60% {\n",
              "      border-color: transparent;\n",
              "      border-right-color: var(--fill-color);\n",
              "    }\n",
              "    80% {\n",
              "      border-color: transparent;\n",
              "      border-right-color: var(--fill-color);\n",
              "      border-bottom-color: var(--fill-color);\n",
              "    }\n",
              "    90% {\n",
              "      border-color: transparent;\n",
              "      border-bottom-color: var(--fill-color);\n",
              "    }\n",
              "  }\n",
              "</style>\n",
              "\n",
              "  <script>\n",
              "    async function quickchart(key) {\n",
              "      const quickchartButtonEl =\n",
              "        document.querySelector('#' + key + ' button');\n",
              "      quickchartButtonEl.disabled = true;  // To prevent multiple clicks.\n",
              "      quickchartButtonEl.classList.add('colab-df-spinner');\n",
              "      try {\n",
              "        const charts = await google.colab.kernel.invokeFunction(\n",
              "            'suggestCharts', [key], {});\n",
              "      } catch (error) {\n",
              "        console.error('Error during call to suggestCharts:', error);\n",
              "      }\n",
              "      quickchartButtonEl.classList.remove('colab-df-spinner');\n",
              "      quickchartButtonEl.classList.add('colab-df-quickchart-complete');\n",
              "    }\n",
              "    (() => {\n",
              "      let quickchartButtonEl =\n",
              "        document.querySelector('#df-ada81470-58dd-4bab-98eb-1135e3295136 button');\n",
              "      quickchartButtonEl.style.display =\n",
              "        google.colab.kernel.accessAllowed ? 'block' : 'none';\n",
              "    })();\n",
              "  </script>\n",
              "</div>\n",
              "    </div>\n",
              "  </div>\n"
            ],
            "application/vnd.google.colaboratory.intrinsic+json": {
              "type": "dataframe",
              "variable_name": "df",
              "summary": "{\n  \"name\": \"df\",\n  \"rows\": 764,\n  \"fields\": [\n    {\n      \"column\": \"EmploymentField\",\n      \"properties\": {\n        \"dtype\": \"category\",\n        \"num_unique_values\": 15,\n        \"samples\": [\n          \"software development and IT\",\n          \"architecture or physical engineering\",\n          \"software development\"\n        ],\n        \"semantic_type\": \"\",\n        \"description\": \"\"\n      }\n    },\n    {\n      \"column\": \"EmploymentStatus\",\n      \"properties\": {\n        \"dtype\": \"category\",\n        \"num_unique_values\": 3,\n        \"samples\": [\n          \"Employed for wages\",\n          \"Self-employed business owner\",\n          \"Self-employed freelancer\"\n        ],\n        \"semantic_type\": \"\",\n        \"description\": \"\"\n      }\n    },\n    {\n      \"column\": \"Gender\",\n      \"properties\": {\n        \"dtype\": \"category\",\n        \"num_unique_values\": 2,\n        \"samples\": [\n          \"female\",\n          \"male\"\n        ],\n        \"semantic_type\": \"\",\n        \"description\": \"\"\n      }\n    },\n    {\n      \"column\": \"Income\",\n      \"properties\": {\n        \"dtype\": \"number\",\n        \"std\": 33879.355750191404,\n        \"min\": 6000.0,\n        \"max\": 200000.0,\n        \"num_unique_values\": 141,\n        \"samples\": [\n          31000.0,\n          21500.0\n        ],\n        \"semantic_type\": \"\",\n        \"description\": \"\"\n      }\n    },\n    {\n      \"column\": \"JobPref\",\n      \"properties\": {\n        \"dtype\": \"category\",\n        \"num_unique_values\": 3,\n        \"samples\": [\n          \"work for a medium-sized company\",\n          \"work for a multinational corporation\"\n        ],\n        \"semantic_type\": \"\",\n        \"description\": \"\"\n      }\n    },\n    {\n      \"column\": \"JobWherePref\",\n      \"properties\": {\n        \"dtype\": \"category\",\n        \"num_unique_values\": 3,\n        \"samples\": [\n          \"in an office with other developers\",\n          \"from home\"\n        ],\n        \"semantic_type\": \"\",\n        \"description\": \"\"\n      }\n    },\n    {\n      \"column\": \"MaritalStatus\",\n      \"properties\": {\n        \"dtype\": \"category\",\n        \"num_unique_values\": 4,\n        \"samples\": [\n          \"single, never married\",\n          \"separated\"\n        ],\n        \"semantic_type\": \"\",\n        \"description\": \"\"\n      }\n    },\n    {\n      \"column\": \"IncomeCat\",\n      \"properties\": {\n        \"dtype\": \"category\",\n        \"num_unique_values\": 3,\n        \"samples\": [\n          \"Low\",\n          \"High\"\n        ],\n        \"semantic_type\": \"\",\n        \"description\": \"\"\n      }\n    }\n  ]\n}"
            }
          },
          "metadata": {},
          "execution_count": 124
        }
      ]
    },
    {
      "cell_type": "code",
      "source": [],
      "metadata": {
        "id": "vXxbejjCavBB"
      },
      "execution_count": null,
      "outputs": []
    },
    {
      "cell_type": "code",
      "source": [
        "r = pd.crosstab(df.Gender,df.IncomeCat)\n",
        "st.contingency.expected_freq(r)"
      ],
      "metadata": {
        "colab": {
          "base_uri": "https://localhost:8080/"
        },
        "id": "N3wFJSlAbIxA",
        "outputId": "72efb41b-8150-400c-d8e5-0c0da240abc4"
      },
      "execution_count": null,
      "outputs": [
        {
          "output_type": "execute_result",
          "data": {
            "text/plain": [
              "array([[  3.82329843, 105.05759162,  18.11910995],\n",
              "       [ 19.17670157, 526.94240838,  90.88089005]])"
            ]
          },
          "metadata": {},
          "execution_count": 125
        }
      ]
    },
    {
      "cell_type": "code",
      "source": [
        "m = np.array(r.values)\n",
        "res = stats.fisher_test(m, simulate_p_value = True)\n",
        "print(res)"
      ],
      "metadata": {
        "colab": {
          "base_uri": "https://localhost:8080/"
        },
        "id": "qaxhx3d0biGW",
        "outputId": "d3fb14b0-781b-4bf1-aeac-ba84addda7ed"
      },
      "execution_count": null,
      "outputs": [
        {
          "output_type": "stream",
          "name": "stdout",
          "text": [
            "\n",
            "\tFisher's Exact Test for Count Data with simulated p-value (based on\n",
            "\t2000 replicates)\n",
            "\n",
            "data:  structure(c(2L, 21L, 106L, 526L, 19L, 90L), dim = 2:3)\n",
            "p-value = 0.6357\n",
            "alternative hypothesis: two.sided\n",
            "\n",
            "\n"
          ]
        }
      ]
    },
    {
      "cell_type": "code",
      "source": [
        "df.dtypes"
      ],
      "metadata": {
        "colab": {
          "base_uri": "https://localhost:8080/",
          "height": 335
        },
        "id": "25UImI5Bb4qo",
        "outputId": "81278d41-3bc2-4e50-f066-813882ccb0c1"
      },
      "execution_count": null,
      "outputs": [
        {
          "output_type": "execute_result",
          "data": {
            "text/plain": [
              "EmploymentField      object\n",
              "EmploymentStatus     object\n",
              "Gender               object\n",
              "Income              float64\n",
              "JobPref              object\n",
              "JobWherePref         object\n",
              "MaritalStatus        object\n",
              "IncomeCat            object\n",
              "dtype: object"
            ],
            "text/html": [
              "<div>\n",
              "<style scoped>\n",
              "    .dataframe tbody tr th:only-of-type {\n",
              "        vertical-align: middle;\n",
              "    }\n",
              "\n",
              "    .dataframe tbody tr th {\n",
              "        vertical-align: top;\n",
              "    }\n",
              "\n",
              "    .dataframe thead th {\n",
              "        text-align: right;\n",
              "    }\n",
              "</style>\n",
              "<table border=\"1\" class=\"dataframe\">\n",
              "  <thead>\n",
              "    <tr style=\"text-align: right;\">\n",
              "      <th></th>\n",
              "      <th>0</th>\n",
              "    </tr>\n",
              "  </thead>\n",
              "  <tbody>\n",
              "    <tr>\n",
              "      <th>EmploymentField</th>\n",
              "      <td>object</td>\n",
              "    </tr>\n",
              "    <tr>\n",
              "      <th>EmploymentStatus</th>\n",
              "      <td>object</td>\n",
              "    </tr>\n",
              "    <tr>\n",
              "      <th>Gender</th>\n",
              "      <td>object</td>\n",
              "    </tr>\n",
              "    <tr>\n",
              "      <th>Income</th>\n",
              "      <td>float64</td>\n",
              "    </tr>\n",
              "    <tr>\n",
              "      <th>JobPref</th>\n",
              "      <td>object</td>\n",
              "    </tr>\n",
              "    <tr>\n",
              "      <th>JobWherePref</th>\n",
              "      <td>object</td>\n",
              "    </tr>\n",
              "    <tr>\n",
              "      <th>MaritalStatus</th>\n",
              "      <td>object</td>\n",
              "    </tr>\n",
              "    <tr>\n",
              "      <th>IncomeCat</th>\n",
              "      <td>object</td>\n",
              "    </tr>\n",
              "  </tbody>\n",
              "</table>\n",
              "</div><br><label><b>dtype:</b> object</label>"
            ]
          },
          "metadata": {},
          "execution_count": 127
        }
      ]
    },
    {
      "cell_type": "code",
      "source": [
        "df.dtypes"
      ],
      "metadata": {
        "colab": {
          "base_uri": "https://localhost:8080/",
          "height": 335
        },
        "id": "GxE5s9eqggTA",
        "outputId": "aabeae03-68c6-4833-a017-ed8a44c2e231"
      },
      "execution_count": null,
      "outputs": [
        {
          "output_type": "execute_result",
          "data": {
            "text/plain": [
              "EmploymentField      object\n",
              "EmploymentStatus     object\n",
              "Gender               object\n",
              "Income              float64\n",
              "JobPref              object\n",
              "JobWherePref         object\n",
              "MaritalStatus        object\n",
              "IncomeCat            object\n",
              "dtype: object"
            ],
            "text/html": [
              "<div>\n",
              "<style scoped>\n",
              "    .dataframe tbody tr th:only-of-type {\n",
              "        vertical-align: middle;\n",
              "    }\n",
              "\n",
              "    .dataframe tbody tr th {\n",
              "        vertical-align: top;\n",
              "    }\n",
              "\n",
              "    .dataframe thead th {\n",
              "        text-align: right;\n",
              "    }\n",
              "</style>\n",
              "<table border=\"1\" class=\"dataframe\">\n",
              "  <thead>\n",
              "    <tr style=\"text-align: right;\">\n",
              "      <th></th>\n",
              "      <th>0</th>\n",
              "    </tr>\n",
              "  </thead>\n",
              "  <tbody>\n",
              "    <tr>\n",
              "      <th>EmploymentField</th>\n",
              "      <td>object</td>\n",
              "    </tr>\n",
              "    <tr>\n",
              "      <th>EmploymentStatus</th>\n",
              "      <td>object</td>\n",
              "    </tr>\n",
              "    <tr>\n",
              "      <th>Gender</th>\n",
              "      <td>object</td>\n",
              "    </tr>\n",
              "    <tr>\n",
              "      <th>Income</th>\n",
              "      <td>float64</td>\n",
              "    </tr>\n",
              "    <tr>\n",
              "      <th>JobPref</th>\n",
              "      <td>object</td>\n",
              "    </tr>\n",
              "    <tr>\n",
              "      <th>JobWherePref</th>\n",
              "      <td>object</td>\n",
              "    </tr>\n",
              "    <tr>\n",
              "      <th>MaritalStatus</th>\n",
              "      <td>object</td>\n",
              "    </tr>\n",
              "    <tr>\n",
              "      <th>IncomeCat</th>\n",
              "      <td>object</td>\n",
              "    </tr>\n",
              "  </tbody>\n",
              "</table>\n",
              "</div><br><label><b>dtype:</b> object</label>"
            ]
          },
          "metadata": {},
          "execution_count": 128
        }
      ]
    },
    {
      "cell_type": "code",
      "source": [
        "st.shapiro(df[\"Income\"])"
      ],
      "metadata": {
        "colab": {
          "base_uri": "https://localhost:8080/"
        },
        "id": "NqboTNAQg6tr",
        "outputId": "aaa02653-7433-4a69-ce2b-07e074a150e9"
      },
      "execution_count": null,
      "outputs": [
        {
          "output_type": "execute_result",
          "data": {
            "text/plain": [
              "ShapiroResult(statistic=0.8474842624680363, pvalue=1.796915165737898e-26)"
            ]
          },
          "metadata": {},
          "execution_count": 129
        }
      ]
    },
    {
      "cell_type": "code",
      "source": [
        "df[\"Income\"] = df[\"Income\"].apply(lambda x: np.log(x + 1))"
      ],
      "metadata": {
        "id": "bIadgPAAh-aJ"
      },
      "execution_count": null,
      "outputs": []
    },
    {
      "cell_type": "code",
      "source": [
        "st.shapiro(df[\"Income\"])"
      ],
      "metadata": {
        "colab": {
          "base_uri": "https://localhost:8080/"
        },
        "id": "lk9FBJDEjv1i",
        "outputId": "b9e9b5f1-57b8-4b77-bfae-41b945b14186"
      },
      "execution_count": null,
      "outputs": [
        {
          "output_type": "execute_result",
          "data": {
            "text/plain": [
              "ShapiroResult(statistic=0.9698330003215974, pvalue=1.8691133308568428e-11)"
            ]
          },
          "metadata": {},
          "execution_count": 131
        }
      ]
    },
    {
      "cell_type": "code",
      "source": [
        "df=df.head(100)\n",
        "df.shape"
      ],
      "metadata": {
        "colab": {
          "base_uri": "https://localhost:8080/"
        },
        "id": "WPWUSKY7jyKm",
        "outputId": "313e9065-fde1-4f28-a61b-6db5a871c052"
      },
      "execution_count": null,
      "outputs": [
        {
          "output_type": "execute_result",
          "data": {
            "text/plain": [
              "(100, 8)"
            ]
          },
          "metadata": {},
          "execution_count": 142
        }
      ]
    },
    {
      "cell_type": "code",
      "source": [
        "iter = []\n",
        "for field in df.EmploymentField.unique().tolist():\n",
        "  iter.append(df[df[\"EmploymentField\"] == field][\"Income\"])\n",
        "\n",
        "print(st.f_oneway(*iter))\n",
        "print(st.levene(*iter))\n",
        "\n",
        "print(\"-\"*100)\n",
        "for obj in zip(df.EmploymentField.unique().tolist(),iter):\n",
        "  print(f\"{obj[0]}\\t{DW(obj[1])}\")"
      ],
      "metadata": {
        "colab": {
          "base_uri": "https://localhost:8080/"
        },
        "id": "qSAXfD0BdUiU",
        "outputId": "bc1ddd1b-4e7b-4648-b863-5b8f3c1ddb79"
      },
      "execution_count": 162,
      "outputs": [
        {
          "output_type": "stream",
          "name": "stdout",
          "text": [
            "F_onewayResult(statistic=1.4306061716403498, pvalue=0.17355924689038063)\n",
            "LeveneResult(statistic=0.611959824288202, pvalue=0.8140749167408166)\n",
            "----------------------------------------------------------------------------------------------------\n",
            "software development\t0.0031781060626244516\n",
            "education\t0.004357632321418601\n",
            "transportation\t0.024319022030917504\n",
            "arts, entertainment, sports, or media\t0.0044436197782824535\n",
            "sales\t0.0026094389579942533\n",
            "office and administrative support\t0.0038163049381611026\n",
            "food and beverage\t0.010808936431206407\n",
            "construction and extraction\t0.0038282258790262812\n",
            "health care\t0.007478835811862949\n",
            "software development and IT\t0.005798534361133846\n",
            "finance\t0.007488521783990054\n",
            "architecture or physical engineering\t0.014178186995560142\n"
          ]
        }
      ]
    },
    {
      "cell_type": "code",
      "source": [
        "iter = []\n",
        "for field in df.EmploymentStatus.unique().tolist():\n",
        "  iter.append(df[df[\"EmploymentStatus\"] == field][\"Income\"])\n",
        "\n",
        "print(st.f_oneway(*iter))\n",
        "print(st.levene(*iter))\n",
        "\n",
        "\n",
        "print(\"-\"*100)\n",
        "for obj in zip(df.EmploymentStatus.unique().tolist(),iter):\n",
        "  print(f\"{obj[0]}\\t{DW(obj[1])}\")"
      ],
      "metadata": {
        "colab": {
          "base_uri": "https://localhost:8080/"
        },
        "id": "fUSu-QTrdddM",
        "outputId": "dfe0120c-b9a6-4b24-b81b-a4b0de8dbb56"
      },
      "execution_count": 163,
      "outputs": [
        {
          "output_type": "stream",
          "name": "stdout",
          "text": [
            "F_onewayResult(statistic=3.0033854516387364, pvalue=0.05425491954591807)\n",
            "LeveneResult(statistic=0.9005831879280195, pvalue=0.4097025244218172)\n",
            "----------------------------------------------------------------------------------------------------\n",
            "Employed for wages\t0.006166259999038568\n",
            "Self-employed business owner\t0.004807367960808007\n",
            "Self-employed freelancer\t0.010889228955058514\n"
          ]
        }
      ]
    },
    {
      "cell_type": "code",
      "source": [
        "iter = []\n",
        "for field in df.Gender.unique().tolist():\n",
        "  iter.append(df[df[\"Gender\"] == field][\"Income\"])\n",
        "\n",
        "print(st.f_oneway(*iter))\n",
        "print(st.levene(*iter))\n",
        "\n",
        "print(\"-\"*100)\n",
        "for obj in zip(df.Gender.unique().tolist(),iter):\n",
        "  print(f\"{obj[0]}\\t{DW(obj[1])}\")"
      ],
      "metadata": {
        "colab": {
          "base_uri": "https://localhost:8080/"
        },
        "id": "zx8NMT0pelTt",
        "outputId": "5bc0c61f-e0f8-4cc0-8ac7-8fc8013d7e83"
      },
      "execution_count": 164,
      "outputs": [
        {
          "output_type": "stream",
          "name": "stdout",
          "text": [
            "F_onewayResult(statistic=0.017963713279762376, pvalue=0.8936546807735013)\n",
            "LeveneResult(statistic=0.004221377766022378, pvalue=0.9483285419944949)\n",
            "----------------------------------------------------------------------------------------------------\n",
            "male\t0.007925248517379089\n",
            "female\t0.007462200926571301\n"
          ]
        }
      ]
    },
    {
      "cell_type": "code",
      "source": [
        "iter = []\n",
        "for field in df.JobPref.unique().tolist():\n",
        "  iter.append(df[df[\"JobPref\"] == field][\"Income\"])\n",
        "\n",
        "print(st.f_oneway(*iter))\n",
        "print(st.levene(*iter))\n",
        "\n",
        "print(\"-\"*100)\n",
        "for obj in zip(df.JobPref.unique().tolist(),iter):\n",
        "  print(f\"{obj[0]}\\t{DW(obj[1])}\")"
      ],
      "metadata": {
        "colab": {
          "base_uri": "https://localhost:8080/"
        },
        "id": "HbNv0tR5ex4s",
        "outputId": "540c6b10-16b5-43ab-ea3f-76d916b492ec"
      },
      "execution_count": 165,
      "outputs": [
        {
          "output_type": "stream",
          "name": "stdout",
          "text": [
            "F_onewayResult(statistic=1.981219480385858, pvalue=0.1434422852531389)\n",
            "LeveneResult(statistic=0.1653965020602979, pvalue=0.8477960993791913)\n",
            "----------------------------------------------------------------------------------------------------\n",
            "work for a medium-sized company\t0.006763449514854692\n",
            "work for a multinational corporation\t0.004465262457876931\n",
            "work for a startup\t0.005569414507392579\n"
          ]
        }
      ]
    },
    {
      "cell_type": "code",
      "source": [
        "iter = []\n",
        "for field in df.JobWherePref.unique().tolist():\n",
        "  iter.append(df[df[\"JobWherePref\"] == field][\"Income\"])\n",
        "\n",
        "print(st.f_oneway(*iter))\n",
        "print(st.levene(*iter))\n",
        "\n",
        "print(\"-\"*100)\n",
        "for obj in zip(df.JobWherePref.unique().tolist(),iter):\n",
        "  print(f\"{obj[0]}\\t{DW(obj[1])}\")"
      ],
      "metadata": {
        "colab": {
          "base_uri": "https://localhost:8080/"
        },
        "id": "1G5R6Me8e_f6",
        "outputId": "9fbe216d-e426-4412-8c30-cb8ca754e13d"
      },
      "execution_count": 166,
      "outputs": [
        {
          "output_type": "stream",
          "name": "stdout",
          "text": [
            "F_onewayResult(statistic=0.5402353815907167, pvalue=0.5843537560719639)\n",
            "LeveneResult(statistic=0.7237741563530007, pvalue=0.48751862453099026)\n",
            "----------------------------------------------------------------------------------------------------\n",
            "in an office with other developers\t0.007697861464515756\n",
            "from home\t0.0032739069193340633\n",
            "no preference\t0.00601926090651567\n"
          ]
        }
      ]
    },
    {
      "cell_type": "code",
      "source": [
        "iter = []\n",
        "for field in df.MaritalStatus.unique().tolist():\n",
        "  iter.append(df[df[\"MaritalStatus\"] == field][\"Income\"])\n",
        "\n",
        "print(st.f_oneway(*iter))\n",
        "print(st.levene(*iter))\n",
        "\n",
        "print(\"-\"*100)\n",
        "for obj in zip(df.MaritalStatus.unique().tolist(),iter):\n",
        "  print(f\"{obj[0]}\\t{DW(obj[1])}\")"
      ],
      "metadata": {
        "colab": {
          "base_uri": "https://localhost:8080/"
        },
        "id": "cCzeczXYfA5E",
        "outputId": "07485523-cfe0-4fd4-c786-3ec466d1385b"
      },
      "execution_count": 167,
      "outputs": [
        {
          "output_type": "stream",
          "name": "stdout",
          "text": [
            "F_onewayResult(statistic=0.14641958341341219, pvalue=0.8639857444708781)\n",
            "LeveneResult(statistic=1.4118440959141736, pvalue=0.24865599992108622)\n",
            "----------------------------------------------------------------------------------------------------\n",
            "married or domestic partnership\t0.007532796375560591\n",
            "single, never married\t0.008039645757201614\n",
            "divorced\t0.0010559122551128202\n"
          ]
        }
      ]
    },
    {
      "cell_type": "code",
      "source": [],
      "metadata": {
        "id": "YPwnkChofkGM"
      },
      "execution_count": null,
      "outputs": []
    }
  ]
}