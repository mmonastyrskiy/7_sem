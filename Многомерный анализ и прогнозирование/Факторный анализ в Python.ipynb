{
 "cells": [
  {
   "cell_type": "markdown",
   "metadata": {
    "id": "KSWN3BdFJSc7"
   },
   "source": [
    "# Факторный анализ в Python"
   ]
  },
  {
   "cell_type": "markdown",
   "metadata": {
    "id": "US84oXqeJSc-"
   },
   "source": [
    "## Загрузка данных"
   ]
  },
  {
   "cell_type": "code",
   "execution_count": 1,
   "metadata": {
    "colab": {
     "base_uri": "https://localhost:8080/"
    },
    "executionInfo": {
     "elapsed": 1610,
     "status": "ok",
     "timestamp": 1607461101884,
     "user": {
      "displayName": "Анастасия Кирина",
      "photoUrl": "https://lh3.googleusercontent.com/a-/AOh14Gityrrgz-OMqGn_Z6UtocuFgHf78gRIGMi-KPL7Fg=s64",
      "userId": "13543370386291201185"
     },
     "user_tz": -180
    },
    "id": "jcPopWOjJSc_",
    "outputId": "ababf977-df21-4328-b278-5394fe70fb8b"
   },
   "outputs": [],
   "source": [
    "import pandas as pd\n",
    "import numpy as np\n",
    "import matplotlib.pyplot as plt\n",
    "import math\n",
    "import scipy.stats as ss\n",
    "from math import  sin, cos, pi \n",
    "from statsmodels.formula.api import ols\n",
    "from scipy.stats import chi2\n",
    "from numpy import arange"
   ]
  },
  {
   "cell_type": "code",
   "execution_count": 2,
   "metadata": {
    "id": "1SewDOafJSdA",
    "outputId": "c265c754-ec73-4305-b188-890d57d82d2e"
   },
   "outputs": [
    {
     "data": {
      "text/html": [
       "<div>\n",
       "<style scoped>\n",
       "    .dataframe tbody tr th:only-of-type {\n",
       "        vertical-align: middle;\n",
       "    }\n",
       "\n",
       "    .dataframe tbody tr th {\n",
       "        vertical-align: top;\n",
       "    }\n",
       "\n",
       "    .dataframe thead th {\n",
       "        text-align: right;\n",
       "    }\n",
       "</style>\n",
       "<table border=\"1\" class=\"dataframe\">\n",
       "  <thead>\n",
       "    <tr style=\"text-align: right;\">\n",
       "      <th></th>\n",
       "      <th>X1</th>\n",
       "      <th>X2</th>\n",
       "      <th>X3</th>\n",
       "      <th>X4</th>\n",
       "      <th>X5</th>\n",
       "      <th>X6</th>\n",
       "      <th>X7</th>\n",
       "      <th>X8</th>\n",
       "      <th>X9</th>\n",
       "    </tr>\n",
       "  </thead>\n",
       "  <tbody>\n",
       "    <tr>\n",
       "      <th>0</th>\n",
       "      <td>-0.358860</td>\n",
       "      <td>1.046662</td>\n",
       "      <td>-0.024135</td>\n",
       "      <td>-0.925109</td>\n",
       "      <td>1.108921</td>\n",
       "      <td>-0.419513</td>\n",
       "      <td>0.043384</td>\n",
       "      <td>-0.222082</td>\n",
       "      <td>0.089137</td>\n",
       "    </tr>\n",
       "    <tr>\n",
       "      <th>1</th>\n",
       "      <td>0.732542</td>\n",
       "      <td>0.152726</td>\n",
       "      <td>1.493990</td>\n",
       "      <td>0.505787</td>\n",
       "      <td>-0.675489</td>\n",
       "      <td>-0.282279</td>\n",
       "      <td>0.282664</td>\n",
       "      <td>-0.269168</td>\n",
       "      <td>-0.647999</td>\n",
       "    </tr>\n",
       "    <tr>\n",
       "      <th>2</th>\n",
       "      <td>1.213320</td>\n",
       "      <td>0.431885</td>\n",
       "      <td>0.657885</td>\n",
       "      <td>-0.079579</td>\n",
       "      <td>-0.394043</td>\n",
       "      <td>-0.191350</td>\n",
       "      <td>-0.072765</td>\n",
       "      <td>0.280705</td>\n",
       "      <td>0.014490</td>\n",
       "    </tr>\n",
       "    <tr>\n",
       "      <th>3</th>\n",
       "      <td>-0.404481</td>\n",
       "      <td>0.220163</td>\n",
       "      <td>-0.531442</td>\n",
       "      <td>-0.014539</td>\n",
       "      <td>-0.572209</td>\n",
       "      <td>-0.460731</td>\n",
       "      <td>-0.228032</td>\n",
       "      <td>-0.575047</td>\n",
       "      <td>0.574341</td>\n",
       "    </tr>\n",
       "    <tr>\n",
       "      <th>4</th>\n",
       "      <td>-0.014946</td>\n",
       "      <td>0.934528</td>\n",
       "      <td>0.457704</td>\n",
       "      <td>0.115543</td>\n",
       "      <td>1.480501</td>\n",
       "      <td>-0.356004</td>\n",
       "      <td>-0.121853</td>\n",
       "      <td>-0.337658</td>\n",
       "      <td>0.210438</td>\n",
       "    </tr>\n",
       "  </tbody>\n",
       "</table>\n",
       "</div>"
      ],
      "text/plain": [
       "         X1        X2        X3        X4        X5        X6        X7  \\\n",
       "0 -0.358860  1.046662 -0.024135 -0.925109  1.108921 -0.419513  0.043384   \n",
       "1  0.732542  0.152726  1.493990  0.505787 -0.675489 -0.282279  0.282664   \n",
       "2  1.213320  0.431885  0.657885 -0.079579 -0.394043 -0.191350 -0.072765   \n",
       "3 -0.404481  0.220163 -0.531442 -0.014539 -0.572209 -0.460731 -0.228032   \n",
       "4 -0.014946  0.934528  0.457704  0.115543  1.480501 -0.356004 -0.121853   \n",
       "\n",
       "         X8        X9  \n",
       "0 -0.222082  0.089137  \n",
       "1 -0.269168 -0.647999  \n",
       "2  0.280705  0.014490  \n",
       "3 -0.575047  0.574341  \n",
       "4 -0.337658  0.210438  "
      ]
     },
     "execution_count": 2,
     "metadata": {},
     "output_type": "execute_result"
    }
   ],
   "source": [
    "features = [\"X1\", \"X2\", \"X3\", \"X4\", \"X5\", \"X6\", \"X7\",\"X8\",\"X9\"]\n",
    "f_len = len (features)\n",
    "unclr_data = pd.read_excel ('lab2_data.xlsx')\n",
    "unclr_data = unclr_data[features]\n",
    "\n",
    "unclr_data.head()"
   ]
  },
  {
   "cell_type": "markdown",
   "metadata": {
    "id": "zvd5QA3mJSdB"
   },
   "source": [
    "#### X78 – ПРОДАЖА АЛКОГОЛЬНОЙ ПРОДУКЦИИ НАСЕЛЕНИЮ (Пиво и пивные напитки) (тысяч декалитров)\n",
    "#### X63 – СМЕРТНОСТЬ НАСЕЛЕНИЯ В ТРУДОСПОСОБНОМ ВОЗРАСТЕ\n",
    "#### X44 – ЧИСЛО ЗАРЕГИСТРИРОВАННЫХ ПРЕСТУПЛЕНИЙ, СОВЕРШЕННЫХ в 2018 г. (Убийство и покушение на убийство)\n",
    "#### X45 – ОЖИДАЕМАЯ ПРОДОЛЖИТЕЛЬНОСТЬ ЖИЗНИ ПРИ РОЖДЕНИИ (число лет)\n",
    "#### X41 – СРЕДНЕ-ДУШЕВЫЕ ДЕНЕЖНЫЕ ДОХОДЫ (В МЕСЯЦ), РУБ. \n",
    "#### X40 – ЧИСЛО ЗАРЕГИСТРИРОВАННЫХ ГРАБЕЖЕЙ, СОВЕРШЕННЫХ в 2018 г. (на 1000 человек)\n",
    "#### X31 – УРОВЕНЬ БЕЗРАБОТИЦЫ"
   ]
  },
  {
   "cell_type": "markdown",
   "metadata": {
    "id": "wEGu0kcAJSdB"
   },
   "source": [
    "## Удаляем строки с пустыми значениями и стандартизируем данные"
   ]
  },
  {
   "cell_type": "code",
   "execution_count": 3,
   "metadata": {
    "id": "nMeS-EaZJSdC",
    "outputId": "41ef35a8-acdd-4b6c-dce3-0aac45baf58f"
   },
   "outputs": [
    {
     "data": {
      "text/html": [
       "<div>\n",
       "<style scoped>\n",
       "    .dataframe tbody tr th:only-of-type {\n",
       "        vertical-align: middle;\n",
       "    }\n",
       "\n",
       "    .dataframe tbody tr th {\n",
       "        vertical-align: top;\n",
       "    }\n",
       "\n",
       "    .dataframe thead th {\n",
       "        text-align: right;\n",
       "    }\n",
       "</style>\n",
       "<table border=\"1\" class=\"dataframe\">\n",
       "  <thead>\n",
       "    <tr style=\"text-align: right;\">\n",
       "      <th></th>\n",
       "      <th>X1</th>\n",
       "      <th>X2</th>\n",
       "      <th>X3</th>\n",
       "      <th>X4</th>\n",
       "      <th>X5</th>\n",
       "      <th>X6</th>\n",
       "      <th>X7</th>\n",
       "      <th>X8</th>\n",
       "      <th>X9</th>\n",
       "    </tr>\n",
       "  </thead>\n",
       "  <tbody>\n",
       "    <tr>\n",
       "      <th>0</th>\n",
       "      <td>-0.358860</td>\n",
       "      <td>1.046662</td>\n",
       "      <td>-0.024135</td>\n",
       "      <td>-0.925109</td>\n",
       "      <td>1.108921</td>\n",
       "      <td>-0.419513</td>\n",
       "      <td>0.043384</td>\n",
       "      <td>-0.222082</td>\n",
       "      <td>0.089137</td>\n",
       "    </tr>\n",
       "    <tr>\n",
       "      <th>1</th>\n",
       "      <td>0.732542</td>\n",
       "      <td>0.152726</td>\n",
       "      <td>1.493990</td>\n",
       "      <td>0.505787</td>\n",
       "      <td>-0.675489</td>\n",
       "      <td>-0.282279</td>\n",
       "      <td>0.282664</td>\n",
       "      <td>-0.269168</td>\n",
       "      <td>-0.647999</td>\n",
       "    </tr>\n",
       "    <tr>\n",
       "      <th>2</th>\n",
       "      <td>1.213320</td>\n",
       "      <td>0.431885</td>\n",
       "      <td>0.657885</td>\n",
       "      <td>-0.079579</td>\n",
       "      <td>-0.394043</td>\n",
       "      <td>-0.191350</td>\n",
       "      <td>-0.072765</td>\n",
       "      <td>0.280705</td>\n",
       "      <td>0.014490</td>\n",
       "    </tr>\n",
       "    <tr>\n",
       "      <th>3</th>\n",
       "      <td>-0.404481</td>\n",
       "      <td>0.220163</td>\n",
       "      <td>-0.531442</td>\n",
       "      <td>-0.014539</td>\n",
       "      <td>-0.572209</td>\n",
       "      <td>-0.460731</td>\n",
       "      <td>-0.228032</td>\n",
       "      <td>-0.575047</td>\n",
       "      <td>0.574341</td>\n",
       "    </tr>\n",
       "    <tr>\n",
       "      <th>4</th>\n",
       "      <td>-0.014946</td>\n",
       "      <td>0.934528</td>\n",
       "      <td>0.457704</td>\n",
       "      <td>0.115543</td>\n",
       "      <td>1.480501</td>\n",
       "      <td>-0.356004</td>\n",
       "      <td>-0.121853</td>\n",
       "      <td>-0.337658</td>\n",
       "      <td>0.210438</td>\n",
       "    </tr>\n",
       "  </tbody>\n",
       "</table>\n",
       "</div>"
      ],
      "text/plain": [
       "         X1        X2        X3        X4        X5        X6        X7  \\\n",
       "0 -0.358860  1.046662 -0.024135 -0.925109  1.108921 -0.419513  0.043384   \n",
       "1  0.732542  0.152726  1.493990  0.505787 -0.675489 -0.282279  0.282664   \n",
       "2  1.213320  0.431885  0.657885 -0.079579 -0.394043 -0.191350 -0.072765   \n",
       "3 -0.404481  0.220163 -0.531442 -0.014539 -0.572209 -0.460731 -0.228032   \n",
       "4 -0.014946  0.934528  0.457704  0.115543  1.480501 -0.356004 -0.121853   \n",
       "\n",
       "         X8        X9  \n",
       "0 -0.222082  0.089137  \n",
       "1 -0.269168 -0.647999  \n",
       "2  0.280705  0.014490  \n",
       "3 -0.575047  0.574341  \n",
       "4 -0.337658  0.210438  "
      ]
     },
     "execution_count": 3,
     "metadata": {},
     "output_type": "execute_result"
    }
   ],
   "source": [
    "unsc_data = unclr_data[unclr_data!='-'].dropna().astype('float64')\n",
    "index = unsc_data.index \n",
    "columns = unsc_data.columns \n",
    "index = unsc_data.index\n",
    "columns = unsc_data.columns\n",
    "scaled = (unsc_data - unsc_data.mean(axis=0))/unsc_data.std()\n",
    "data = pd.DataFrame(scaled, columns=columns, index=index) \n",
    "\n",
    "data.head()"
   ]
  },
  {
   "cell_type": "markdown",
   "metadata": {
    "id": "e1vBxiUmJSdC"
   },
   "source": [
    "## Корреляционная матрица"
   ]
  },
  {
   "cell_type": "code",
   "execution_count": 4,
   "metadata": {
    "id": "p-IKyd8LJSdD",
    "outputId": "c7b05712-35f3-443b-b9ef-1d300e94e412"
   },
   "outputs": [
    {
     "data": {
      "text/html": [
       "<div>\n",
       "<style scoped>\n",
       "    .dataframe tbody tr th:only-of-type {\n",
       "        vertical-align: middle;\n",
       "    }\n",
       "\n",
       "    .dataframe tbody tr th {\n",
       "        vertical-align: top;\n",
       "    }\n",
       "\n",
       "    .dataframe thead th {\n",
       "        text-align: right;\n",
       "    }\n",
       "</style>\n",
       "<table border=\"1\" class=\"dataframe\">\n",
       "  <thead>\n",
       "    <tr style=\"text-align: right;\">\n",
       "      <th></th>\n",
       "      <th>X1</th>\n",
       "      <th>X2</th>\n",
       "      <th>X3</th>\n",
       "      <th>X4</th>\n",
       "      <th>X5</th>\n",
       "      <th>X6</th>\n",
       "      <th>X7</th>\n",
       "      <th>X8</th>\n",
       "      <th>X9</th>\n",
       "    </tr>\n",
       "  </thead>\n",
       "  <tbody>\n",
       "    <tr>\n",
       "      <th>X1</th>\n",
       "      <td>1.000000</td>\n",
       "      <td>0.424649</td>\n",
       "      <td>0.231616</td>\n",
       "      <td>-0.162421</td>\n",
       "      <td>0.255123</td>\n",
       "      <td>-0.179811</td>\n",
       "      <td>0.325123</td>\n",
       "      <td>-0.275671</td>\n",
       "      <td>-0.025242</td>\n",
       "    </tr>\n",
       "    <tr>\n",
       "      <th>X2</th>\n",
       "      <td>0.424649</td>\n",
       "      <td>1.000000</td>\n",
       "      <td>0.594993</td>\n",
       "      <td>0.021442</td>\n",
       "      <td>0.381429</td>\n",
       "      <td>0.196778</td>\n",
       "      <td>0.612704</td>\n",
       "      <td>0.061868</td>\n",
       "      <td>-0.236869</td>\n",
       "    </tr>\n",
       "    <tr>\n",
       "      <th>X3</th>\n",
       "      <td>0.231616</td>\n",
       "      <td>0.594993</td>\n",
       "      <td>1.000000</td>\n",
       "      <td>0.004660</td>\n",
       "      <td>0.140411</td>\n",
       "      <td>0.371633</td>\n",
       "      <td>0.472637</td>\n",
       "      <td>0.483304</td>\n",
       "      <td>-0.343512</td>\n",
       "    </tr>\n",
       "    <tr>\n",
       "      <th>X4</th>\n",
       "      <td>-0.162421</td>\n",
       "      <td>0.021442</td>\n",
       "      <td>0.004660</td>\n",
       "      <td>1.000000</td>\n",
       "      <td>-0.127318</td>\n",
       "      <td>-0.131076</td>\n",
       "      <td>0.058640</td>\n",
       "      <td>-0.107069</td>\n",
       "      <td>-0.057333</td>\n",
       "    </tr>\n",
       "    <tr>\n",
       "      <th>X5</th>\n",
       "      <td>0.255123</td>\n",
       "      <td>0.381429</td>\n",
       "      <td>0.140411</td>\n",
       "      <td>-0.127318</td>\n",
       "      <td>1.000000</td>\n",
       "      <td>0.165129</td>\n",
       "      <td>0.289761</td>\n",
       "      <td>-0.011878</td>\n",
       "      <td>-0.018994</td>\n",
       "    </tr>\n",
       "    <tr>\n",
       "      <th>X6</th>\n",
       "      <td>-0.179811</td>\n",
       "      <td>0.196778</td>\n",
       "      <td>0.371633</td>\n",
       "      <td>-0.131076</td>\n",
       "      <td>0.165129</td>\n",
       "      <td>1.000000</td>\n",
       "      <td>0.452447</td>\n",
       "      <td>0.750230</td>\n",
       "      <td>-0.322548</td>\n",
       "    </tr>\n",
       "    <tr>\n",
       "      <th>X7</th>\n",
       "      <td>0.325123</td>\n",
       "      <td>0.612704</td>\n",
       "      <td>0.472637</td>\n",
       "      <td>0.058640</td>\n",
       "      <td>0.289761</td>\n",
       "      <td>0.452447</td>\n",
       "      <td>1.000000</td>\n",
       "      <td>0.138288</td>\n",
       "      <td>-0.360360</td>\n",
       "    </tr>\n",
       "    <tr>\n",
       "      <th>X8</th>\n",
       "      <td>-0.275671</td>\n",
       "      <td>0.061868</td>\n",
       "      <td>0.483304</td>\n",
       "      <td>-0.107069</td>\n",
       "      <td>-0.011878</td>\n",
       "      <td>0.750230</td>\n",
       "      <td>0.138288</td>\n",
       "      <td>1.000000</td>\n",
       "      <td>-0.185402</td>\n",
       "    </tr>\n",
       "    <tr>\n",
       "      <th>X9</th>\n",
       "      <td>-0.025242</td>\n",
       "      <td>-0.236869</td>\n",
       "      <td>-0.343512</td>\n",
       "      <td>-0.057333</td>\n",
       "      <td>-0.018994</td>\n",
       "      <td>-0.322548</td>\n",
       "      <td>-0.360360</td>\n",
       "      <td>-0.185402</td>\n",
       "      <td>1.000000</td>\n",
       "    </tr>\n",
       "  </tbody>\n",
       "</table>\n",
       "</div>"
      ],
      "text/plain": [
       "          X1        X2        X3        X4        X5        X6        X7  \\\n",
       "X1  1.000000  0.424649  0.231616 -0.162421  0.255123 -0.179811  0.325123   \n",
       "X2  0.424649  1.000000  0.594993  0.021442  0.381429  0.196778  0.612704   \n",
       "X3  0.231616  0.594993  1.000000  0.004660  0.140411  0.371633  0.472637   \n",
       "X4 -0.162421  0.021442  0.004660  1.000000 -0.127318 -0.131076  0.058640   \n",
       "X5  0.255123  0.381429  0.140411 -0.127318  1.000000  0.165129  0.289761   \n",
       "X6 -0.179811  0.196778  0.371633 -0.131076  0.165129  1.000000  0.452447   \n",
       "X7  0.325123  0.612704  0.472637  0.058640  0.289761  0.452447  1.000000   \n",
       "X8 -0.275671  0.061868  0.483304 -0.107069 -0.011878  0.750230  0.138288   \n",
       "X9 -0.025242 -0.236869 -0.343512 -0.057333 -0.018994 -0.322548 -0.360360   \n",
       "\n",
       "          X8        X9  \n",
       "X1 -0.275671 -0.025242  \n",
       "X2  0.061868 -0.236869  \n",
       "X3  0.483304 -0.343512  \n",
       "X4 -0.107069 -0.057333  \n",
       "X5 -0.011878 -0.018994  \n",
       "X6  0.750230 -0.322548  \n",
       "X7  0.138288 -0.360360  \n",
       "X8  1.000000 -0.185402  \n",
       "X9 -0.185402  1.000000  "
      ]
     },
     "execution_count": 4,
     "metadata": {},
     "output_type": "execute_result"
    }
   ],
   "source": [
    "correlations = data.corr()\n",
    "\n",
    "correlations"
   ]
  },
  {
   "cell_type": "markdown",
   "metadata": {
    "id": "wuWc23urJSdD"
   },
   "source": [
    "## Проверим гипотезу о незначимости корреляционной матрицы с использованием критерия Уилкса"
   ]
  },
  {
   "cell_type": "code",
   "execution_count": 5,
   "metadata": {
    "id": "aVtNY7ukJSdE",
    "outputId": "02dc614b-4058-451a-b7f4-9ffab8c9aa7f"
   },
   "outputs": [
    {
     "name": "stdout",
     "output_type": "stream",
     "text": [
      "Наблюдаемое значение составило 290.24235863610625\n",
      "Значение p-value равно 1.6853718731989932e-41\n",
      "Отвергаем гипотезу, матрица парных коэффициентов корреляции значима\n"
     ]
    }
   ],
   "source": [
    "def chi_2(n,k,R):\n",
    "    return -(n-1/6*(2*k+5))*math.log(np.linalg.det(R), math.e)\n",
    "\n",
    "chi_2_crt=chi_2(data.shape[0],data.shape[1],correlations)\n",
    "print('Наблюдаемое значение составило',chi_2_crt)\n",
    "p_value=chi2.sf(chi_2_crt, data.shape[1]*(data.shape[1]-1)/2)\n",
    "print ('Значение p-value равно {}'.format(p_value))\n",
    "if p_value>0.05:\n",
    "    print('Принимаем гипотезу, матрица парных коэффициентов корреляции незначима')\n",
    "else:\n",
    "    print('Отвергаем гипотезу, матрица парных коэффициентов корреляции значима')"
   ]
  },
  {
   "cell_type": "markdown",
   "metadata": {
    "id": "IjCo3FYZJSdE"
   },
   "source": [
    "## Оценка общности признаков\n",
    "### Общность- доля дисперсии признака, объясняемая общими факторами\n",
    "### Для i-ого признака: квадрат оценки множественного коеффициента детерминации уравнения регрессии i-ого признака на все остальные "
   ]
  },
  {
   "cell_type": "code",
   "execution_count": 6,
   "metadata": {
    "id": "IQqJ_WZfJSdE",
    "outputId": "e0cfee41-8892-46b5-c4aa-61d35a391cda"
   },
   "outputs": [
    {
     "data": {
      "text/html": [
       "<div>\n",
       "<style scoped>\n",
       "    .dataframe tbody tr th:only-of-type {\n",
       "        vertical-align: middle;\n",
       "    }\n",
       "\n",
       "    .dataframe tbody tr th {\n",
       "        vertical-align: top;\n",
       "    }\n",
       "\n",
       "    .dataframe thead th {\n",
       "        text-align: right;\n",
       "    }\n",
       "</style>\n",
       "<table border=\"1\" class=\"dataframe\">\n",
       "  <thead>\n",
       "    <tr style=\"text-align: right;\">\n",
       "      <th></th>\n",
       "      <th>Communalities</th>\n",
       "    </tr>\n",
       "  </thead>\n",
       "  <tbody>\n",
       "    <tr>\n",
       "      <th>X1</th>\n",
       "      <td>0.388837</td>\n",
       "    </tr>\n",
       "    <tr>\n",
       "      <th>X2</th>\n",
       "      <td>0.590637</td>\n",
       "    </tr>\n",
       "    <tr>\n",
       "      <th>X3</th>\n",
       "      <td>0.627354</td>\n",
       "    </tr>\n",
       "    <tr>\n",
       "      <th>X4</th>\n",
       "      <td>0.129942</td>\n",
       "    </tr>\n",
       "    <tr>\n",
       "      <th>X5</th>\n",
       "      <td>0.216776</td>\n",
       "    </tr>\n",
       "    <tr>\n",
       "      <th>X6</th>\n",
       "      <td>0.746782</td>\n",
       "    </tr>\n",
       "    <tr>\n",
       "      <th>X7</th>\n",
       "      <td>0.604932</td>\n",
       "    </tr>\n",
       "    <tr>\n",
       "      <th>X8</th>\n",
       "      <td>0.746572</td>\n",
       "    </tr>\n",
       "    <tr>\n",
       "      <th>X9</th>\n",
       "      <td>0.219266</td>\n",
       "    </tr>\n",
       "  </tbody>\n",
       "</table>\n",
       "</div>"
      ],
      "text/plain": [
       "    Communalities\n",
       "X1       0.388837\n",
       "X2       0.590637\n",
       "X3       0.627354\n",
       "X4       0.129942\n",
       "X5       0.216776\n",
       "X6       0.746782\n",
       "X7       0.604932\n",
       "X8       0.746572\n",
       "X9       0.219266"
      ]
     },
     "execution_count": 6,
     "metadata": {},
     "output_type": "execute_result"
    }
   ],
   "source": [
    "communalities=[]\n",
    "for variable in features:\n",
    "    communalities.append(ols(formula=\"{} ~ {}\".format(variable, ' + '.join(set(features)-set([variable]))), data=data).fit().rsquared)\n",
    "\n",
    "pd.DataFrame(communalities,index = features,columns = ['Communalities'])"
   ]
  },
  {
   "cell_type": "markdown",
   "metadata": {
    "id": "rMHKTIB0JSdF"
   },
   "source": [
    "## Расчет редуцированной матрицы\n",
    "### Редуцированная матрица=корреляционная матрица с оценками общностей признака на диагонали"
   ]
  },
  {
   "cell_type": "code",
   "execution_count": 7,
   "metadata": {
    "id": "R1QD7BIoJSdF",
    "outputId": "07852a99-9bf4-4329-8542-4218ec262d22"
   },
   "outputs": [
    {
     "data": {
      "text/html": [
       "<div>\n",
       "<style scoped>\n",
       "    .dataframe tbody tr th:only-of-type {\n",
       "        vertical-align: middle;\n",
       "    }\n",
       "\n",
       "    .dataframe tbody tr th {\n",
       "        vertical-align: top;\n",
       "    }\n",
       "\n",
       "    .dataframe thead th {\n",
       "        text-align: right;\n",
       "    }\n",
       "</style>\n",
       "<table border=\"1\" class=\"dataframe\">\n",
       "  <thead>\n",
       "    <tr style=\"text-align: right;\">\n",
       "      <th></th>\n",
       "      <th>X1</th>\n",
       "      <th>X2</th>\n",
       "      <th>X3</th>\n",
       "      <th>X4</th>\n",
       "      <th>X5</th>\n",
       "      <th>X6</th>\n",
       "      <th>X7</th>\n",
       "      <th>X8</th>\n",
       "      <th>X9</th>\n",
       "    </tr>\n",
       "  </thead>\n",
       "  <tbody>\n",
       "    <tr>\n",
       "      <th>X1</th>\n",
       "      <td>0.388837</td>\n",
       "      <td>0.424649</td>\n",
       "      <td>0.231616</td>\n",
       "      <td>-0.162421</td>\n",
       "      <td>0.255123</td>\n",
       "      <td>-0.179811</td>\n",
       "      <td>0.325123</td>\n",
       "      <td>-0.275671</td>\n",
       "      <td>-0.025242</td>\n",
       "    </tr>\n",
       "    <tr>\n",
       "      <th>X2</th>\n",
       "      <td>0.424649</td>\n",
       "      <td>0.590637</td>\n",
       "      <td>0.594993</td>\n",
       "      <td>0.021442</td>\n",
       "      <td>0.381429</td>\n",
       "      <td>0.196778</td>\n",
       "      <td>0.612704</td>\n",
       "      <td>0.061868</td>\n",
       "      <td>-0.236869</td>\n",
       "    </tr>\n",
       "    <tr>\n",
       "      <th>X3</th>\n",
       "      <td>0.231616</td>\n",
       "      <td>0.594993</td>\n",
       "      <td>0.627354</td>\n",
       "      <td>0.004660</td>\n",
       "      <td>0.140411</td>\n",
       "      <td>0.371633</td>\n",
       "      <td>0.472637</td>\n",
       "      <td>0.483304</td>\n",
       "      <td>-0.343512</td>\n",
       "    </tr>\n",
       "    <tr>\n",
       "      <th>X4</th>\n",
       "      <td>-0.162421</td>\n",
       "      <td>0.021442</td>\n",
       "      <td>0.004660</td>\n",
       "      <td>0.129942</td>\n",
       "      <td>-0.127318</td>\n",
       "      <td>-0.131076</td>\n",
       "      <td>0.058640</td>\n",
       "      <td>-0.107069</td>\n",
       "      <td>-0.057333</td>\n",
       "    </tr>\n",
       "    <tr>\n",
       "      <th>X5</th>\n",
       "      <td>0.255123</td>\n",
       "      <td>0.381429</td>\n",
       "      <td>0.140411</td>\n",
       "      <td>-0.127318</td>\n",
       "      <td>0.216776</td>\n",
       "      <td>0.165129</td>\n",
       "      <td>0.289761</td>\n",
       "      <td>-0.011878</td>\n",
       "      <td>-0.018994</td>\n",
       "    </tr>\n",
       "    <tr>\n",
       "      <th>X6</th>\n",
       "      <td>-0.179811</td>\n",
       "      <td>0.196778</td>\n",
       "      <td>0.371633</td>\n",
       "      <td>-0.131076</td>\n",
       "      <td>0.165129</td>\n",
       "      <td>0.746782</td>\n",
       "      <td>0.452447</td>\n",
       "      <td>0.750230</td>\n",
       "      <td>-0.322548</td>\n",
       "    </tr>\n",
       "    <tr>\n",
       "      <th>X7</th>\n",
       "      <td>0.325123</td>\n",
       "      <td>0.612704</td>\n",
       "      <td>0.472637</td>\n",
       "      <td>0.058640</td>\n",
       "      <td>0.289761</td>\n",
       "      <td>0.452447</td>\n",
       "      <td>0.604932</td>\n",
       "      <td>0.138288</td>\n",
       "      <td>-0.360360</td>\n",
       "    </tr>\n",
       "    <tr>\n",
       "      <th>X8</th>\n",
       "      <td>-0.275671</td>\n",
       "      <td>0.061868</td>\n",
       "      <td>0.483304</td>\n",
       "      <td>-0.107069</td>\n",
       "      <td>-0.011878</td>\n",
       "      <td>0.750230</td>\n",
       "      <td>0.138288</td>\n",
       "      <td>0.746572</td>\n",
       "      <td>-0.185402</td>\n",
       "    </tr>\n",
       "    <tr>\n",
       "      <th>X9</th>\n",
       "      <td>-0.025242</td>\n",
       "      <td>-0.236869</td>\n",
       "      <td>-0.343512</td>\n",
       "      <td>-0.057333</td>\n",
       "      <td>-0.018994</td>\n",
       "      <td>-0.322548</td>\n",
       "      <td>-0.360360</td>\n",
       "      <td>-0.185402</td>\n",
       "      <td>0.219266</td>\n",
       "    </tr>\n",
       "  </tbody>\n",
       "</table>\n",
       "</div>"
      ],
      "text/plain": [
       "          X1        X2        X3        X4        X5        X6        X7  \\\n",
       "X1  0.388837  0.424649  0.231616 -0.162421  0.255123 -0.179811  0.325123   \n",
       "X2  0.424649  0.590637  0.594993  0.021442  0.381429  0.196778  0.612704   \n",
       "X3  0.231616  0.594993  0.627354  0.004660  0.140411  0.371633  0.472637   \n",
       "X4 -0.162421  0.021442  0.004660  0.129942 -0.127318 -0.131076  0.058640   \n",
       "X5  0.255123  0.381429  0.140411 -0.127318  0.216776  0.165129  0.289761   \n",
       "X6 -0.179811  0.196778  0.371633 -0.131076  0.165129  0.746782  0.452447   \n",
       "X7  0.325123  0.612704  0.472637  0.058640  0.289761  0.452447  0.604932   \n",
       "X8 -0.275671  0.061868  0.483304 -0.107069 -0.011878  0.750230  0.138288   \n",
       "X9 -0.025242 -0.236869 -0.343512 -0.057333 -0.018994 -0.322548 -0.360360   \n",
       "\n",
       "          X8        X9  \n",
       "X1 -0.275671 -0.025242  \n",
       "X2  0.061868 -0.236869  \n",
       "X3  0.483304 -0.343512  \n",
       "X4 -0.107069 -0.057333  \n",
       "X5 -0.011878 -0.018994  \n",
       "X6  0.750230 -0.322548  \n",
       "X7  0.138288 -0.360360  \n",
       "X8  0.746572 -0.185402  \n",
       "X9 -0.185402  0.219266  "
      ]
     },
     "execution_count": 7,
     "metadata": {},
     "output_type": "execute_result"
    }
   ],
   "source": [
    "Rh_eval = np.empty((f_len,f_len)) \n",
    "for i in range(f_len):\n",
    "    for j in range(f_len):\n",
    "        if i==j:\n",
    "            Rh_eval[i][j] = communalities[i]\n",
    "        else:\n",
    "            Rh_eval[i][j] = correlations.values [i][j]\n",
    "pd.DataFrame(Rh_eval, index=features, columns=features)"
   ]
  },
  {
   "cell_type": "markdown",
   "metadata": {
    "id": "HOnsQrlrJSdG"
   },
   "source": [
    "## Расчет собственных чисел и соответствующих им собственных векторов редуцированной матрицы"
   ]
  },
  {
   "cell_type": "markdown",
   "metadata": {
    "id": "RdCSvTgjJSdG"
   },
   "source": [
    "### Собственные значения- дисперсия выделенных факторов"
   ]
  },
  {
   "cell_type": "code",
   "execution_count": 8,
   "metadata": {
    "id": "NeSvgfVHJSdG",
    "outputId": "a2f251d4-ee42-443b-c852-37a81280209d"
   },
   "outputs": [
    {
     "data": {
      "text/plain": [
       "[(2.634186003270114,\n",
       "  array([-0.14175673, -0.41333269, -0.46107286,  0.0349132 , -0.19145487,\n",
       "         -0.42457032, -0.44463977, -0.33826628,  0.25731397])),\n",
       " (1.4515418479984983,\n",
       "  array([-0.49666551, -0.37826882, -0.03623457, -0.02107723, -0.22106   ,\n",
       "          0.43139493, -0.22338805,  0.56774769, -0.03563852])),\n",
       " (0.41017410069850263,\n",
       "  array([ 0.27488604, -0.0542174 , -0.26533368, -0.642598  ,  0.45888561,\n",
       "          0.25167743, -0.13279736,  0.12153819,  0.36309748])),\n",
       " (0.30595049560800314,\n",
       "  array([ 0.2018245 ,  0.10933131,  0.58363844, -0.1671119 , -0.17109851,\n",
       "         -0.40526498, -0.47202443,  0.34871856,  0.20205748])),\n",
       " (0.07443708081715603,\n",
       "  array([ 0.40152455, -0.39113342,  0.04473596, -0.44278214, -0.43791111,\n",
       "          0.05037583,  0.09230656, -0.1279205 , -0.51821553])),\n",
       " (-0.059556740593882766,\n",
       "  array([-0.30540642,  0.17358168,  0.07219932, -0.1646804 ,  0.41481731,\n",
       "         -0.0125922 , -0.50419277, -0.21850969, -0.60833802])),\n",
       " (-0.16009456426668073,\n",
       "  array([-0.16646292,  0.58194498, -0.08346435, -0.26143825, -0.54503884,\n",
       "          0.33237467, -0.17455704, -0.29491676,  0.18255839])),\n",
       " (-0.18288245451750287,\n",
       "  array([-0.10340649, -0.38580416,  0.5850977 ,  0.03807123,  0.11684463,\n",
       "          0.35143111, -0.03193833, -0.52475442,  0.28832232])),\n",
       " (-0.20265735217862205,\n",
       "  array([ 0.56924079,  0.0235618 , -0.13617422,  0.51429875, -0.00820146,\n",
       "          0.41156311, -0.46661546,  0.02022574, -0.0690841 ]))]"
      ]
     },
     "execution_count": 8,
     "metadata": {},
     "output_type": "execute_result"
    }
   ],
   "source": [
    "uns_eigenvalues_Rh_eval, eigenveсtors_Rh_eval=np.linalg.eig(Rh_eval)\n",
    "couple_lst=[]\n",
    "\n",
    "for i in range(len(uns_eigenvalues_Rh_eval)):\n",
    "    couple_lst.append((uns_eigenvalues_Rh_eval[i], eigenveсtors_Rh_eval[:,i]))\n",
    "\n",
    "from operator import itemgetter\n",
    "\n",
    "couple_lst = sorted(couple_lst, key = itemgetter(0),reverse=True)\n",
    "eigenvalues_Rh_eval=sorted(uns_eigenvalues_Rh_eval,reverse=True)\n",
    "\n",
    "couple_lst"
   ]
  },
  {
   "cell_type": "markdown",
   "metadata": {
    "id": "kyFJDn5qJSdJ"
   },
   "source": [
    "## Сравнение суммарной общности с суммой собственных чисел редуцированной матрицы для поиска количества факторов, до которого можно снизить размерность признакового пространства. "
   ]
  },
  {
   "cell_type": "code",
   "execution_count": 9,
   "metadata": {
    "id": "aGuecVM4JSdK",
    "outputId": "15566972-7e24-47c1-edd0-e7d6eb5d0070"
   },
   "outputs": [
    {
     "name": "stdout",
     "output_type": "stream",
     "text": [
      "Суммарная общность:  4.271098416835585\n",
      "Сумма оценок первого собственного числа редуцированной матрицы: 2.634186003270114\n",
      "До одного фактора снизить нельзя\n"
     ]
    }
   ],
   "source": [
    "#np.trace- сумма диагональных элементов матрицы\n",
    "print('Суммарная общность: ', np.trace(Rh_eval))\n",
    "print('Сумма оценок первого собственного числа редуцированной матрицы:', eigenvalues_Rh_eval[0])\n",
    "if np.trace(Rh_eval) < eigenvalues_Rh_eval[0]:\n",
    "    print('Размерность признакового пространства можно снизить до одного общего фактора.')\n",
    "else:\n",
    "    print('До одного фактора снизить нельзя')"
   ]
  },
  {
   "cell_type": "code",
   "execution_count": 10,
   "metadata": {
    "id": "OO36062EJSdK",
    "outputId": "24cde8bd-08be-45e5-c82b-9b68ce4be535"
   },
   "outputs": [
    {
     "name": "stdout",
     "output_type": "stream",
     "text": [
      "Суммарная общность:  4.271098416835585\n",
      "Сумма оценок первых двух собственных чисел редуцированной матрицы: 4.085727851268612\n",
      "До двух факторов снизить нельзя\n"
     ]
    }
   ],
   "source": [
    "print('Суммарная общность: ', np.trace(Rh_eval))\n",
    "print('Сумма оценок первых двух собственных чисел редуцированной матрицы:', eigenvalues_Rh_eval[0]+eigenvalues_Rh_eval[1])\n",
    "if np.trace(Rh_eval) < eigenvalues_Rh_eval[0]+eigenvalues_Rh_eval[1]:\n",
    "    print('Размерность признакового пространства можно снизить до двух общих факторов.')\n",
    "else:\n",
    "    print('До двух факторов снизить нельзя')"
   ]
  },
  {
   "cell_type": "code",
   "execution_count": 11,
   "metadata": {
    "id": "Du1nI0mgJSdL",
    "outputId": "2149dc2e-e3a8-49bd-ec77-8bf4d921ee0b"
   },
   "outputs": [
    {
     "name": "stdout",
     "output_type": "stream",
     "text": [
      "Суммарная общность:  4.271098416835585\n",
      "Сумма оценок первых трех собственных чисел редуцированной матрицы: 4.495901951967115\n",
      "Размерность признакового пространства можно снизить до трех общих факторов.\n"
     ]
    }
   ],
   "source": [
    "print('Суммарная общность: ', np.trace(Rh_eval))\n",
    "print('Сумма оценок первых трех собственных чисел редуцированной матрицы:', eigenvalues_Rh_eval[0]+eigenvalues_Rh_eval[1]+eigenvalues_Rh_eval[2])\n",
    "if np.trace(Rh_eval) < eigenvalues_Rh_eval[0]+eigenvalues_Rh_eval[1]+eigenvalues_Rh_eval[2]:\n",
    "    print('Размерность признакового пространства можно снизить до трех общих факторов.')\n",
    "else:\n",
    "    print('До трех факторов снизить нельзя')"
   ]
  },
  {
   "cell_type": "markdown",
   "metadata": {
    "id": "D4hxVfJLJSdL"
   },
   "source": [
    "## Критерий каменистой осыпи"
   ]
  },
  {
   "cell_type": "code",
   "execution_count": 12,
   "metadata": {
    "id": "3yOv1ZYmJSdL",
    "outputId": "b807ed05-aa03-4572-d95b-02689c153f37"
   },
   "outputs": [
    {
     "data": {
      "image/png": "[encoded data removed]",
      "text/plain": [
       "<Figure size 600x400 with 1 Axes>"
      ]
     },
     "metadata": {},
     "output_type": "display_data"
    }
   ],
   "source": [
    "dft = pd.DataFrame([])\n",
    "eigenvalues_pos=[]\n",
    "for i in range (len(eigenvalues_Rh_eval)):\n",
    "    if eigenvalues_Rh_eval[i] >= -5:\n",
    "        eigenvalues_pos.append(eigenvalues_Rh_eval[i])\n",
    "dft['y'] = eigenvalues_pos\n",
    "dft['x'] = list (range(len(eigenvalues_pos)))\n",
    "dft['Tot_var'] = (dft['y']/f_len).apply(lambda x: round(x *100, 2)).apply(str) +'%'\n",
    "\n",
    "plt.figure(figsize=(6,4))\n",
    "plt.plot(dft['x'], dft['y'], marker='o')\n",
    "ax = plt.gca()\n",
    "dft.apply(lambda x: ax.annotate(x['Tot_var'], (x['x'], x['y'])), axis=1)\n",
    "plt.title('Positive eigenvalues of Rh_eval matrix')\n",
    "plt.grid(axis='y')\n",
    "plt.show()"
   ]
  },
  {
   "cell_type": "markdown",
   "metadata": {
    "id": "SEG6dGorJSdM"
   },
   "source": [
    "## Критерий Кайзера"
   ]
  },
  {
   "cell_type": "code",
   "execution_count": 13,
   "metadata": {
    "id": "o8uHiFbaJSdM",
    "outputId": "dc019e69-d480-43d0-b931-f8ecc9d0e8e7"
   },
   "outputs": [
    {
     "name": "stdout",
     "output_type": "stream",
     "text": [
      "Критерий Кайзера предлагает 2 фактор(-а/ов).\n"
     ]
    }
   ],
   "source": [
    "print('Критерий Кайзера предлагает {} фактор(-а/ов).'.format(len(uns_eigenvalues_Rh_eval[uns_eigenvalues_Rh_eval >1])))"
   ]
  },
  {
   "cell_type": "markdown",
   "metadata": {
    "id": "dH21tYfeJSdN"
   },
   "source": [
    "## Берем три фактора"
   ]
  },
  {
   "cell_type": "code",
   "execution_count": 21,
   "metadata": {
    "id": "on3Le6eXJSdN",
    "outputId": "3b04c6cc-272e-4371-8778-0c7f98b91c75"
   },
   "outputs": [
    {
     "data": {
      "text/html": [
       "<div>\n",
       "<style scoped>\n",
       "    .dataframe tbody tr th:only-of-type {\n",
       "        vertical-align: middle;\n",
       "    }\n",
       "\n",
       "    .dataframe tbody tr th {\n",
       "        vertical-align: top;\n",
       "    }\n",
       "\n",
       "    .dataframe thead th {\n",
       "        text-align: right;\n",
       "    }\n",
       "</style>\n",
       "<table border=\"1\" class=\"dataframe\">\n",
       "  <thead>\n",
       "    <tr style=\"text-align: right;\">\n",
       "      <th></th>\n",
       "      <th>X1</th>\n",
       "      <th>X2</th>\n",
       "      <th>X3</th>\n",
       "      <th>X4</th>\n",
       "      <th>X5</th>\n",
       "      <th>X6</th>\n",
       "      <th>X7</th>\n",
       "      <th>X8</th>\n",
       "      <th>X9</th>\n",
       "    </tr>\n",
       "  </thead>\n",
       "  <tbody>\n",
       "    <tr>\n",
       "      <th>Factor_1</th>\n",
       "      <td>-0.141757</td>\n",
       "      <td>-0.413333</td>\n",
       "      <td>-0.461073</td>\n",
       "      <td>0.034913</td>\n",
       "      <td>-0.191455</td>\n",
       "      <td>-0.424570</td>\n",
       "      <td>-0.444640</td>\n",
       "      <td>-0.338266</td>\n",
       "      <td>0.257314</td>\n",
       "    </tr>\n",
       "    <tr>\n",
       "      <th>Factor_2</th>\n",
       "      <td>-0.496666</td>\n",
       "      <td>-0.378269</td>\n",
       "      <td>-0.036235</td>\n",
       "      <td>-0.021077</td>\n",
       "      <td>-0.221060</td>\n",
       "      <td>0.431395</td>\n",
       "      <td>-0.223388</td>\n",
       "      <td>0.567748</td>\n",
       "      <td>-0.035639</td>\n",
       "    </tr>\n",
       "    <tr>\n",
       "      <th>Factor_3</th>\n",
       "      <td>0.274886</td>\n",
       "      <td>-0.054217</td>\n",
       "      <td>-0.265334</td>\n",
       "      <td>-0.642598</td>\n",
       "      <td>0.458886</td>\n",
       "      <td>0.251677</td>\n",
       "      <td>-0.132797</td>\n",
       "      <td>0.121538</td>\n",
       "      <td>0.363097</td>\n",
       "    </tr>\n",
       "  </tbody>\n",
       "</table>\n",
       "</div>"
      ],
      "text/plain": [
       "                X1        X2        X3        X4        X5        X6  \\\n",
       "Factor_1 -0.141757 -0.413333 -0.461073  0.034913 -0.191455 -0.424570   \n",
       "Factor_2 -0.496666 -0.378269 -0.036235 -0.021077 -0.221060  0.431395   \n",
       "Factor_3  0.274886 -0.054217 -0.265334 -0.642598  0.458886  0.251677   \n",
       "\n",
       "                X7        X8        X9  \n",
       "Factor_1 -0.444640 -0.338266  0.257314  \n",
       "Factor_2 -0.223388  0.567748 -0.035639  \n",
       "Factor_3 -0.132797  0.121538  0.363097  "
      ]
     },
     "execution_count": 21,
     "metadata": {},
     "output_type": "execute_result"
    }
   ],
   "source": [
    "fact = 3\n",
    "\n",
    "U = np.empty ((fact,f_len)) \n",
    "for i in range(fact):\n",
    "    U[i]=couple_lst[i][1]\n",
    "\n",
    "df_U=pd.DataFrame(data=U, index=['Factor_'+str(i +1) for i in range(fact)], columns=features)\n",
    "\n",
    "df_U"
   ]
  },
  {
   "cell_type": "code",
   "execution_count": 22,
   "metadata": {
    "id": "PeI5EGfzJSdN",
    "outputId": "9b1008c8-ef45-42be-a7d2-6f8185a4a45e"
   },
   "outputs": [
    {
     "data": {
      "text/html": [
       "<div>\n",
       "<style scoped>\n",
       "    .dataframe tbody tr th:only-of-type {\n",
       "        vertical-align: middle;\n",
       "    }\n",
       "\n",
       "    .dataframe tbody tr th {\n",
       "        vertical-align: top;\n",
       "    }\n",
       "\n",
       "    .dataframe thead th {\n",
       "        text-align: right;\n",
       "    }\n",
       "</style>\n",
       "<table border=\"1\" class=\"dataframe\">\n",
       "  <thead>\n",
       "    <tr style=\"text-align: right;\">\n",
       "      <th></th>\n",
       "      <th>Factor_1</th>\n",
       "      <th>Factor_2</th>\n",
       "      <th>Factor_3</th>\n",
       "    </tr>\n",
       "  </thead>\n",
       "  <tbody>\n",
       "    <tr>\n",
       "      <th>X1</th>\n",
       "      <td>-0.230074</td>\n",
       "      <td>-0.598382</td>\n",
       "      <td>0.176050</td>\n",
       "    </tr>\n",
       "    <tr>\n",
       "      <th>X2</th>\n",
       "      <td>-0.670846</td>\n",
       "      <td>-0.455738</td>\n",
       "      <td>-0.034723</td>\n",
       "    </tr>\n",
       "    <tr>\n",
       "      <th>X3</th>\n",
       "      <td>-0.748329</td>\n",
       "      <td>-0.043655</td>\n",
       "      <td>-0.169933</td>\n",
       "    </tr>\n",
       "    <tr>\n",
       "      <th>X4</th>\n",
       "      <td>0.056665</td>\n",
       "      <td>-0.025394</td>\n",
       "      <td>-0.411551</td>\n",
       "    </tr>\n",
       "    <tr>\n",
       "      <th>X5</th>\n",
       "      <td>-0.310735</td>\n",
       "      <td>-0.266333</td>\n",
       "      <td>0.293893</td>\n",
       "    </tr>\n",
       "    <tr>\n",
       "      <th>X6</th>\n",
       "      <td>-0.689085</td>\n",
       "      <td>0.519744</td>\n",
       "      <td>0.161186</td>\n",
       "    </tr>\n",
       "    <tr>\n",
       "      <th>X7</th>\n",
       "      <td>-0.721658</td>\n",
       "      <td>-0.269138</td>\n",
       "      <td>-0.085050</td>\n",
       "    </tr>\n",
       "    <tr>\n",
       "      <th>X8</th>\n",
       "      <td>-0.549012</td>\n",
       "      <td>0.684022</td>\n",
       "      <td>0.077839</td>\n",
       "    </tr>\n",
       "    <tr>\n",
       "      <th>X9</th>\n",
       "      <td>0.417625</td>\n",
       "      <td>-0.042937</td>\n",
       "      <td>0.232545</td>\n",
       "    </tr>\n",
       "  </tbody>\n",
       "</table>\n",
       "</div>"
      ],
      "text/plain": [
       "    Factor_1  Factor_2  Factor_3\n",
       "X1 -0.230074 -0.598382  0.176050\n",
       "X2 -0.670846 -0.455738 -0.034723\n",
       "X3 -0.748329 -0.043655 -0.169933\n",
       "X4  0.056665 -0.025394 -0.411551\n",
       "X5 -0.310735 -0.266333  0.293893\n",
       "X6 -0.689085  0.519744  0.161186\n",
       "X7 -0.721658 -0.269138 -0.085050\n",
       "X8 -0.549012  0.684022  0.077839\n",
       "X9  0.417625 -0.042937  0.232545"
      ]
     },
     "execution_count": 22,
     "metadata": {},
     "output_type": "execute_result"
    }
   ],
   "source": [
    "sqrt_l=np.eye(fact)\n",
    "for i in range(fact):\n",
    "    sqrt_l[i][i]=math.sqrt(eigenvalues_Rh_eval[i])  \n",
    "A=np.dot(U.T,sqrt_l)\n",
    "df_A = pd.DataFrame(data=A, columns=['Factor_'+str(i + 1) for i in range(fact)], index=features)\n",
    "\n",
    "df_A"
   ]
  },
  {
   "cell_type": "code",
   "execution_count": 23,
   "metadata": {
    "id": "0ZTWhe2pJSdO"
   },
   "outputs": [],
   "source": [
    "#Важно отметить, что матрица, рассчитанная таким способом может не совпасть с аналогичной, полученной с помощью других программных пакетов. Это связано с тем, что собственные вектора матрицы R_h берутся с точностью до знака. Для того, чтобы скорректировать полученные результаты, можно воспользоваться следующим кодом\n",
    "df_A['Factor_1'] *= -1# если не совпал первый столбец\n",
    "df_A['Factor_2'] *= -1# если не совпал второй столбец\n",
    "df_A['Factor_3'] *= -1# если не совпал третий столбец"
   ]
  },
  {
   "cell_type": "code",
   "execution_count": 24,
   "metadata": {
    "id": "IC1g6mCfJSdO",
    "outputId": "5beb9a69-d0f6-45e5-ddff-2e3226291c4b"
   },
   "outputs": [
    {
     "data": {
      "text/html": [
       "<div>\n",
       "<style scoped>\n",
       "    .dataframe tbody tr th:only-of-type {\n",
       "        vertical-align: middle;\n",
       "    }\n",
       "\n",
       "    .dataframe tbody tr th {\n",
       "        vertical-align: top;\n",
       "    }\n",
       "\n",
       "    .dataframe thead th {\n",
       "        text-align: right;\n",
       "    }\n",
       "</style>\n",
       "<table border=\"1\" class=\"dataframe\">\n",
       "  <thead>\n",
       "    <tr style=\"text-align: right;\">\n",
       "      <th></th>\n",
       "      <th>Factor_1</th>\n",
       "      <th>Factor_2</th>\n",
       "      <th>Factor_3</th>\n",
       "    </tr>\n",
       "  </thead>\n",
       "  <tbody>\n",
       "    <tr>\n",
       "      <th>X1</th>\n",
       "      <td>0.230074</td>\n",
       "      <td>0.598382</td>\n",
       "      <td>-0.176050</td>\n",
       "    </tr>\n",
       "    <tr>\n",
       "      <th>X2</th>\n",
       "      <td>0.670846</td>\n",
       "      <td>0.455738</td>\n",
       "      <td>0.034723</td>\n",
       "    </tr>\n",
       "    <tr>\n",
       "      <th>X3</th>\n",
       "      <td>0.748329</td>\n",
       "      <td>0.043655</td>\n",
       "      <td>0.169933</td>\n",
       "    </tr>\n",
       "    <tr>\n",
       "      <th>X4</th>\n",
       "      <td>-0.056665</td>\n",
       "      <td>0.025394</td>\n",
       "      <td>0.411551</td>\n",
       "    </tr>\n",
       "    <tr>\n",
       "      <th>X5</th>\n",
       "      <td>0.310735</td>\n",
       "      <td>0.266333</td>\n",
       "      <td>-0.293893</td>\n",
       "    </tr>\n",
       "    <tr>\n",
       "      <th>X6</th>\n",
       "      <td>0.689085</td>\n",
       "      <td>-0.519744</td>\n",
       "      <td>-0.161186</td>\n",
       "    </tr>\n",
       "    <tr>\n",
       "      <th>X7</th>\n",
       "      <td>0.721658</td>\n",
       "      <td>0.269138</td>\n",
       "      <td>0.085050</td>\n",
       "    </tr>\n",
       "    <tr>\n",
       "      <th>X8</th>\n",
       "      <td>0.549012</td>\n",
       "      <td>-0.684022</td>\n",
       "      <td>-0.077839</td>\n",
       "    </tr>\n",
       "    <tr>\n",
       "      <th>X9</th>\n",
       "      <td>-0.417625</td>\n",
       "      <td>0.042937</td>\n",
       "      <td>-0.232545</td>\n",
       "    </tr>\n",
       "  </tbody>\n",
       "</table>\n",
       "</div>"
      ],
      "text/plain": [
       "    Factor_1  Factor_2  Factor_3\n",
       "X1  0.230074  0.598382 -0.176050\n",
       "X2  0.670846  0.455738  0.034723\n",
       "X3  0.748329  0.043655  0.169933\n",
       "X4 -0.056665  0.025394  0.411551\n",
       "X5  0.310735  0.266333 -0.293893\n",
       "X6  0.689085 -0.519744 -0.161186\n",
       "X7  0.721658  0.269138  0.085050\n",
       "X8  0.549012 -0.684022 -0.077839\n",
       "X9 -0.417625  0.042937 -0.232545"
      ]
     },
     "execution_count": 24,
     "metadata": {},
     "output_type": "execute_result"
    }
   ],
   "source": [
    "df_A"
   ]
  },
  {
   "cell_type": "code",
   "execution_count": 25,
   "metadata": {
    "id": "m4oSKG2-JSdO",
    "outputId": "8fbcf3e3-e893-4fe7-dcf1-f3cc79aafa4b"
   },
   "outputs": [
    {
     "data": {
      "image/png": "[encoded data removed]",
      "text/plain": [
       "<Figure size 640x480 with 1 Axes>"
      ]
     },
     "metadata": {},
     "output_type": "display_data"
    }
   ],
   "source": [
    "plt.scatter(df_A['Factor_1'], df_A['Factor_2'])\n",
    "plt.scatter (0, 0, c = 'r')\n",
    "plt.grid()\n",
    "plt.title ('factor loadings A')\n",
    "for variable in features :\n",
    "    plt.annotate('{}'.format(variable), xy = (df_A['Factor_1'][variable],df_A['Factor_2'][variable]))"
   ]
  },
  {
   "cell_type": "code",
   "execution_count": 26,
   "metadata": {
    "id": "LjRaaP0EJSdP",
    "outputId": "940760a3-e771-4667-e4b2-0b2db4ee4733"
   },
   "outputs": [
    {
     "data": {
      "image/png": "[encoded data removed]",
      "text/plain": [
       "<Figure size 800x800 with 1 Axes>"
      ]
     },
     "metadata": {},
     "output_type": "display_data"
    }
   ],
   "source": [
    "from mpl_toolkits.mplot3d import Axes3D\n",
    "\n",
    "fig = plt.figure(figsize=(8, 8))\n",
    "ax = fig.add_subplot(projection='3d')\n",
    "ax.scatter(df_A['Factor_1'], df_A['Factor_2'], df_A['Factor_3'])\n",
    "\n",
    "ax.set_xlabel('Factor_1')\n",
    "ax.set_ylabel('Factor_2')\n",
    "\n",
    "plt.show()"
   ]
  },
  {
   "cell_type": "markdown",
   "metadata": {
    "id": "fnXl1pEjJSdP"
   },
   "source": [
    "## Функции квартимакс и варимакс для расчета критериев q и v при вращении факторных осей"
   ]
  },
  {
   "cell_type": "code",
   "execution_count": 27,
   "metadata": {
    "id": "Wgjwyr9BJSdP"
   },
   "outputs": [],
   "source": [
    "def quartimax (X): \n",
    "    value = 0\n",
    "    m = X.shape[1]\n",
    "    for row in X:\n",
    "        value += (sum (row**4) - (sum(row**2))**2)/m**2\n",
    "    return value\n",
    "\n",
    "def varimax (X) :\n",
    "    value = 0\n",
    "    k = X.shape[0]\n",
    "    for row in X.T:\n",
    "        value += (k*sum(row**4) -sum(row**2)**2)/k**2\n",
    "    return value\n",
    "\n",
    "def criteria (method,X):\n",
    "    if method == 'varimax':\n",
    "        return varimax(X)\n",
    "    elif method == 'quartimax':\n",
    "        return quartimax (X)\n",
    "    else:\n",
    "        print ('wrong input')"
   ]
  },
  {
   "cell_type": "markdown",
   "metadata": {
    "id": "KJH1lnswJSdQ"
   },
   "source": [
    "## Вращение в случае двух факторов"
   ]
  },
  {
   "cell_type": "code",
   "execution_count": 28,
   "metadata": {
    "id": "e-Greqf4JSdQ",
    "outputId": "88b2efe1-9ccb-4eb8-bd22-7f6ac9c94cf9"
   },
   "outputs": [
    {
     "ename": "ValueError",
     "evalue": "shapes (9,3) and (2,2) not aligned: 3 (dim 1) != 2 (dim 0)",
     "output_type": "error",
     "traceback": [
      "\u001b[1;31m---------------------------------------------------------------------------\u001b[0m",
      "\u001b[1;31mValueError\u001b[0m                                Traceback (most recent call last)",
      "Cell \u001b[1;32mIn [28], line 15\u001b[0m\n\u001b[0;32m     12\u001b[0m grad \u001b[38;5;241m=\u001b[39m alpha\n\u001b[0;32m     13\u001b[0m T \u001b[38;5;241m=\u001b[39m [[cos(grad),sin(grad)],\n\u001b[0;32m     14\u001b[0m      [\u001b[38;5;241m-\u001b[39msin(grad),cos(grad)]]\n\u001b[1;32m---> 15\u001b[0m B \u001b[38;5;241m=\u001b[39m \u001b[43mnp\u001b[49m\u001b[38;5;241;43m.\u001b[39;49m\u001b[43mdot\u001b[49m\u001b[43m \u001b[49m\u001b[43m(\u001b[49m\u001b[43mA\u001b[49m\u001b[43m,\u001b[49m\u001b[43mT\u001b[49m\u001b[43m)\u001b[49m\n\u001b[0;32m     16\u001b[0m dict_for_B[criteria(\u001b[38;5;124m'\u001b[39m\u001b[38;5;124mquartimax\u001b[39m\u001b[38;5;124m'\u001b[39m,B)] \u001b[38;5;241m=\u001b[39m B\n\u001b[0;32m     17\u001b[0m criteria_column\u001b[38;5;241m.\u001b[39mappend (criteria(\u001b[38;5;124m'\u001b[39m\u001b[38;5;124mquartimax\u001b[39m\u001b[38;5;124m'\u001b[39m,B))\n",
      "File \u001b[1;32m<__array_function__ internals>:180\u001b[0m, in \u001b[0;36mdot\u001b[1;34m(*args, **kwargs)\u001b[0m\n",
      "\u001b[1;31mValueError\u001b[0m: shapes (9,3) and (2,2) not aligned: 3 (dim 1) != 2 (dim 0)"
     ]
    }
   ],
   "source": [
    "rad_column = []\n",
    "grad_column=[]\n",
    "\n",
    "criteria_column = []\n",
    "dict_for_B = {}\n",
    "\n",
    "for alpha in arange(0, pi/2, 0.0001):\n",
    "\n",
    "    rad_column.append(alpha)\n",
    "    grad_column.append(alpha*180/pi)\n",
    "\n",
    "    grad = alpha\n",
    "    T = [[cos(grad),sin(grad)],\n",
    "         [-sin(grad),cos(grad)]]\n",
    "    B = np.dot (A,T)\n",
    "    dict_for_B[criteria('quartimax',B)] = B\n",
    "    criteria_column.append (criteria('quartimax',B))\n",
    "\n",
    "df_rotation = pd.DataFrame([]) \n",
    "df_rotation['rad'] = rad_column\n",
    "df_rotation['grad'] = grad_column\n",
    "df_rotation ['criteria'] = criteria_column"
   ]
  },
  {
   "cell_type": "markdown",
   "metadata": {
    "id": "ivUsARJZJSdQ"
   },
   "source": [
    "## Для трех факторов (выполняется около 10 минут), используем квартимакс в качестве критерия"
   ]
  },
  {
   "cell_type": "code",
   "execution_count": null,
   "metadata": {
    "id": "TbhHj0vuJSdR",
    "outputId": "b5977c7d-d6ae-48f1-da23-e9e101434865"
   },
   "outputs": [
    {
     "name": "stdout",
     "output_type": "stream",
     "text": [
      "0.0\n"
     ]
    }
   ],
   "source": [
    "import tqdm\n",
    "radx_column = []\n",
    "gradx_column=[]\n",
    "rady_column = []\n",
    "grady_column=[]\n",
    "radz_column = []\n",
    "gradz_column=[]\n",
    "\n",
    "criteria_column = []\n",
    "dict_for_B = {}\n",
    "\n",
    "for alpha in arange(0, pi/2, 0.01):\n",
    "    print(alpha)\n",
    "    for alpha2 in arange(0, pi/2, 0.01):\n",
    "        for alpha3 in arange(0, pi/2, 0.01):\n",
    "            radx_column.append(alpha)\n",
    "            gradx_column.append(alpha*180/pi)\n",
    "            rady_column.append(alpha2)\n",
    "            grady_column.append(alpha2*180/pi)\n",
    "            radz_column.append(alpha3)\n",
    "            gradz_column.append(alpha3*180/pi)            \n",
    "            \n",
    "            grad = alpha\n",
    "            grad2 = alpha2\n",
    "            grad3 = alpha3\n",
    "            T = [[1, 0, 0],\n",
    "                 [0, cos(grad), -sin(grad)],\n",
    "                 [0, sin(grad), cos(grad)]]\n",
    "            T2 = [[cos(grad2), 0, sin(grad2)],\n",
    "                 [0, 1, 0],\n",
    "                 [-sin(grad2), 0, cos(grad2)]]\n",
    "            T3 = [[cos(grad3), -sin(grad3), 0],\n",
    "                 [sin(grad3), cos(grad3), 0],\n",
    "                 [0, 0, 1]]\n",
    "            B = np.dot(np.dot(np.dot (A,T), T2), T3)\n",
    "            dict_for_B[criteria('quartimax',B)] = B\n",
    "            criteria_column.append (criteria('quartimax',B))\n",
    "\n",
    "df_rotation = pd.DataFrame([]) \n",
    "df_rotation['radx'] = radx_column\n",
    "df_rotation['gradx'] = gradx_column\n",
    "df_rotation['rady'] = rady_column\n",
    "df_rotation['grady'] = grady_column\n",
    "df_rotation['radz'] = radz_column\n",
    "df_rotation['gradz'] = gradz_column\n",
    "df_rotation ['criteria'] = criteria_column\n",
    "df_rotation"
   ]
  },
  {
   "cell_type": "code",
   "execution_count": null,
   "metadata": {
    "id": "oG6Tu1ooJSdR",
    "outputId": "d5465436-6394-4613-8054-5d8514191647"
   },
   "outputs": [
    {
     "data": {
      "text/plain": [
       "-0.037847743041575975"
      ]
     },
     "execution_count": 120,
     "metadata": {
      "tags": []
     },
     "output_type": "execute_result"
    }
   ],
   "source": [
    "criteria_best = df_rotation ['criteria'].max()\n",
    "\n",
    "criteria_best"
   ]
  },
  {
   "cell_type": "markdown",
   "metadata": {
    "id": "emBOHkZyJSdS"
   },
   "source": [
    "## Вывод лучшего угла вращения для трех факторов"
   ]
  },
  {
   "cell_type": "code",
   "execution_count": null,
   "metadata": {
    "id": "2PX2D-FlJSdS",
    "outputId": "aed7cb6c-f172-4ede-8bd1-5754d1a2db1d"
   },
   "outputs": [
    {
     "name": "stdout",
     "output_type": "stream",
     "text": [
      "Лучший угол для вращения x:1.370 y:78.495 z:0.240 радиан или x:13.751 y:0.080 z:4.584 градусов\n"
     ]
    }
   ],
   "source": [
    "radx_best = df_rotation.loc[df_rotation['criteria'].idxmax(),'radx']\n",
    "gradx_best = df_rotation.loc [df_rotation['criteria'].idxmax(),'gradx']\n",
    "rady_best = df_rotation.loc[df_rotation['criteria'].idxmax(),'rady']\n",
    "grady_best = df_rotation.loc [df_rotation['criteria'].idxmax(),'grady']\n",
    "radz_best = df_rotation.loc[df_rotation['criteria'].idxmax(),'radz']\n",
    "gradz_best = df_rotation.loc [df_rotation['criteria'].idxmax(),'gradz']\n",
    "\n",
    "print ('Лучший угол для вращения x:{:.3f} y:{:.3f} z:{:.3f} радиан или x:{:.3f} y:{:.3f} z:{:.3f} градусов'.format (radx_best, gradx_best, rady_best, grady_best, radz_best, gradz_best))"
   ]
  },
  {
   "cell_type": "markdown",
   "metadata": {
    "id": "hIwilVJTJSdS"
   },
   "source": [
    "## Вывод лучшего угла вращения для двух факторов (оставил для проверки)"
   ]
  },
  {
   "cell_type": "code",
   "execution_count": null,
   "metadata": {
    "id": "vYmHUuxIJSdS",
    "outputId": "289e369d-8a57-4109-91dd-30aa724d23ac"
   },
   "outputs": [
    {
     "name": "stdout",
     "output_type": "stream",
     "text": [
      "Лучший угол для вращения :1.388 радиан или 79.527 градусов\n"
     ]
    }
   ],
   "source": [
    "rad_best = df_rotation.loc[df_rotation['criteria'].idxmax(),'rad']\n",
    "grad_best = df_rotation.loc [df_rotation['criteria'].idxmax(),'grad']\n",
    "\n",
    "print ('Лучший угол для вращения :{:.3f} радиан или {:.3f} градусов'.format (rad_best,grad_best))"
   ]
  },
  {
   "cell_type": "markdown",
   "metadata": {
    "id": "n7AH0b0iJSdT"
   },
   "source": [
    "## Матрица факторного отображения после вращения"
   ]
  },
  {
   "cell_type": "code",
   "execution_count": null,
   "metadata": {
    "id": "vcF-YGH0JSdU",
    "outputId": "4953d487-a530-4515-eeb1-392ba58f243d"
   },
   "outputs": [
    {
     "data": {
      "text/html": [
       "<div>\n",
       "<style scoped>\n",
       "    .dataframe tbody tr th:only-of-type {\n",
       "        vertical-align: middle;\n",
       "    }\n",
       "\n",
       "    .dataframe tbody tr th {\n",
       "        vertical-align: top;\n",
       "    }\n",
       "\n",
       "    .dataframe thead th {\n",
       "        text-align: right;\n",
       "    }\n",
       "</style>\n",
       "<table border=\"1\" class=\"dataframe\">\n",
       "  <thead>\n",
       "    <tr style=\"text-align: right;\">\n",
       "      <th></th>\n",
       "      <th>Factor_1</th>\n",
       "      <th>Factor_2</th>\n",
       "      <th>Factor_3</th>\n",
       "    </tr>\n",
       "  </thead>\n",
       "  <tbody>\n",
       "    <tr>\n",
       "      <th>x78</th>\n",
       "      <td>0.137919</td>\n",
       "      <td>-0.151692</td>\n",
       "      <td>0.909569</td>\n",
       "    </tr>\n",
       "    <tr>\n",
       "      <th>x63</th>\n",
       "      <td>0.931812</td>\n",
       "      <td>0.005975</td>\n",
       "      <td>-0.238944</td>\n",
       "    </tr>\n",
       "    <tr>\n",
       "      <th>х44</th>\n",
       "      <td>0.249825</td>\n",
       "      <td>0.131023</td>\n",
       "      <td>0.857906</td>\n",
       "    </tr>\n",
       "    <tr>\n",
       "      <th>x45</th>\n",
       "      <td>-0.923806</td>\n",
       "      <td>-0.049695</td>\n",
       "      <td>0.279028</td>\n",
       "    </tr>\n",
       "    <tr>\n",
       "      <th>x41</th>\n",
       "      <td>0.182290</td>\n",
       "      <td>-0.394038</td>\n",
       "      <td>0.158561</td>\n",
       "    </tr>\n",
       "    <tr>\n",
       "      <th>x40</th>\n",
       "      <td>0.569689</td>\n",
       "      <td>0.373711</td>\n",
       "      <td>0.008500</td>\n",
       "    </tr>\n",
       "    <tr>\n",
       "      <th>x31</th>\n",
       "      <td>-0.409259</td>\n",
       "      <td>0.499336</td>\n",
       "      <td>-0.261201</td>\n",
       "    </tr>\n",
       "  </tbody>\n",
       "</table>\n",
       "</div>"
      ],
      "text/plain": [
       "     Factor_1  Factor_2  Factor_3\n",
       "x78  0.137919 -0.151692  0.909569\n",
       "x63  0.931812  0.005975 -0.238944\n",
       "х44  0.249825  0.131023  0.857906\n",
       "x45 -0.923806 -0.049695  0.279028\n",
       "x41  0.182290 -0.394038  0.158561\n",
       "x40  0.569689  0.373711  0.008500\n",
       "x31 -0.409259  0.499336 -0.261201"
      ]
     },
     "execution_count": 94,
     "metadata": {
      "tags": []
     },
     "output_type": "execute_result"
    }
   ],
   "source": [
    "B = dict_for_B [criteria_best]\n",
    "df_B = pd.DataFrame(data=B, columns=['Factor_'+str(i +1) for i in range(fact)], index=features)\n",
    "\n",
    "df_B"
   ]
  },
  {
   "cell_type": "code",
   "execution_count": null,
   "metadata": {
    "id": "tPJcumRDJSdU",
    "outputId": "bc2c7f33-8ed8-46cb-acab-ccc0b84dc87b"
   },
   "outputs": [
    {
     "data": {
      "image/png": "[encoded data removed]",
      "text/plain": [
       "<Figure size 432x288 with 1 Axes>"
      ]
     },
     "metadata": {
      "needs_background": "light",
      "tags": []
     },
     "output_type": "display_data"
    }
   ],
   "source": [
    "plt.scatter(df_B['Factor_1'],df_B['Factor_2'])\n",
    "plt.scatter (0,0,c= 'r')\n",
    "plt.grid()\n",
    "plt.title ('factor loadings B')\n",
    "for variable in features :\n",
    "    plt.annotate('{}'.format(variable),xy = (df_B['Factor_1'][variable],df_B['Factor_2'][variable]))"
   ]
  },
  {
   "cell_type": "code",
   "execution_count": null,
   "metadata": {
    "id": "PkPtHz7VJSdU",
    "outputId": "4769ada9-770d-47f6-ab73-5fc26a517fcc"
   },
   "outputs": [
    {
     "data": {
      "image/png": "[encoded data removed]",
      "text/plain": [
       "<Figure size 576x576 with 1 Axes>"
      ]
     },
     "metadata": {
      "needs_background": "light",
      "tags": []
     },
     "output_type": "display_data"
    }
   ],
   "source": [
    "from mpl_toolkits.mplot3d import Axes3D\n",
    "\n",
    "fig = plt.figure(figsize=(8, 8))\n",
    "ax = fig.add_subplot(projection='3d')\n",
    "ax.scatter(df_B['Factor_1'], df_B['Factor_2'], df_B['Factor_3'])\n",
    "\n",
    "ax.set_xlabel('Factor_1')\n",
    "ax.set_ylabel('Factor_2')\n",
    "ax.set_zlabel('Factor_3')\n",
    "\n",
    "plt.show()"
   ]
  },
  {
   "cell_type": "code",
   "execution_count": null,
   "metadata": {
    "id": "_v_n-tCPJSdV"
   },
   "outputs": [],
   "source": [
    "B = A"
   ]
  },
  {
   "cell_type": "markdown",
   "metadata": {
    "id": "EafPggE2JSdV"
   },
   "source": [
    "## Оценка редуцированной матрицы парных коэффициентов корреляции"
   ]
  },
  {
   "cell_type": "code",
   "execution_count": null,
   "metadata": {
    "id": "X19m5p1aJSdV",
    "outputId": "fea8c17a-8323-43ee-c41c-e7d3bb28ba01"
   },
   "outputs": [
    {
     "data": {
      "text/html": [
       "<div>\n",
       "<style scoped>\n",
       "    .dataframe tbody tr th:only-of-type {\n",
       "        vertical-align: middle;\n",
       "    }\n",
       "\n",
       "    .dataframe tbody tr th {\n",
       "        vertical-align: top;\n",
       "    }\n",
       "\n",
       "    .dataframe thead th {\n",
       "        text-align: right;\n",
       "    }\n",
       "</style>\n",
       "<table border=\"1\" class=\"dataframe\">\n",
       "  <thead>\n",
       "    <tr style=\"text-align: right;\">\n",
       "      <th></th>\n",
       "      <th>x78</th>\n",
       "      <th>x63</th>\n",
       "      <th>х44</th>\n",
       "      <th>x45</th>\n",
       "      <th>x41</th>\n",
       "      <th>x40</th>\n",
       "      <th>x31</th>\n",
       "    </tr>\n",
       "  </thead>\n",
       "  <tbody>\n",
       "    <tr>\n",
       "      <th>x78</th>\n",
       "      <td>0.869348</td>\n",
       "      <td>-0.089728</td>\n",
       "      <td>0.794905</td>\n",
       "      <td>0.133923</td>\n",
       "      <td>0.229135</td>\n",
       "      <td>0.029614</td>\n",
       "      <td>-0.369771</td>\n",
       "    </tr>\n",
       "    <tr>\n",
       "      <th>x63</th>\n",
       "      <td>-0.089728</td>\n",
       "      <td>0.925404</td>\n",
       "      <td>0.028581</td>\n",
       "      <td>-0.927783</td>\n",
       "      <td>0.129619</td>\n",
       "      <td>0.531045</td>\n",
       "      <td>-0.315956</td>\n",
       "    </tr>\n",
       "    <tr>\n",
       "      <th>х44</th>\n",
       "      <td>0.794905</td>\n",
       "      <td>0.028581</td>\n",
       "      <td>0.815582</td>\n",
       "      <td>0.002079</td>\n",
       "      <td>0.129943</td>\n",
       "      <td>0.198580</td>\n",
       "      <td>-0.260905</td>\n",
       "    </tr>\n",
       "    <tr>\n",
       "      <th>x45</th>\n",
       "      <td>0.133923</td>\n",
       "      <td>-0.927783</td>\n",
       "      <td>0.002079</td>\n",
       "      <td>0.933743</td>\n",
       "      <td>-0.104576</td>\n",
       "      <td>-0.542482</td>\n",
       "      <td>0.280378</td>\n",
       "    </tr>\n",
       "    <tr>\n",
       "      <th>x41</th>\n",
       "      <td>0.229135</td>\n",
       "      <td>0.129619</td>\n",
       "      <td>0.129943</td>\n",
       "      <td>-0.104576</td>\n",
       "      <td>0.213637</td>\n",
       "      <td>-0.042060</td>\n",
       "      <td>-0.312777</td>\n",
       "    </tr>\n",
       "    <tr>\n",
       "      <th>x40</th>\n",
       "      <td>0.029614</td>\n",
       "      <td>0.531045</td>\n",
       "      <td>0.198580</td>\n",
       "      <td>-0.542482</td>\n",
       "      <td>-0.042060</td>\n",
       "      <td>0.464278</td>\n",
       "      <td>-0.048763</td>\n",
       "    </tr>\n",
       "    <tr>\n",
       "      <th>x31</th>\n",
       "      <td>-0.369771</td>\n",
       "      <td>-0.315956</td>\n",
       "      <td>-0.260905</td>\n",
       "      <td>0.280378</td>\n",
       "      <td>-0.312777</td>\n",
       "      <td>-0.048763</td>\n",
       "      <td>0.485055</td>\n",
       "    </tr>\n",
       "  </tbody>\n",
       "</table>\n",
       "</div>"
      ],
      "text/plain": [
       "          x78       x63       х44       x45       x41       x40       x31\n",
       "x78  0.869348 -0.089728  0.794905  0.133923  0.229135  0.029614 -0.369771\n",
       "x63 -0.089728  0.925404  0.028581 -0.927783  0.129619  0.531045 -0.315956\n",
       "х44  0.794905  0.028581  0.815582  0.002079  0.129943  0.198580 -0.260905\n",
       "x45  0.133923 -0.927783  0.002079  0.933743 -0.104576 -0.542482  0.280378\n",
       "x41  0.229135  0.129619  0.129943 -0.104576  0.213637 -0.042060 -0.312777\n",
       "x40  0.029614  0.531045  0.198580 -0.542482 -0.042060  0.464278 -0.048763\n",
       "x31 -0.369771 -0.315956 -0.260905  0.280378 -0.312777 -0.048763  0.485055"
      ]
     },
     "execution_count": 97,
     "metadata": {
      "tags": []
     },
     "output_type": "execute_result"
    }
   ],
   "source": [
    "Rh_real = np.dot(B,B.T)\n",
    "\n",
    "pd.DataFrame(Rh_real,index = features,columns = features)"
   ]
  },
  {
   "cell_type": "markdown",
   "metadata": {
    "id": "sGi2IB6RJSdW"
   },
   "source": [
    "## Оценка остаточной матрицы парных коэффициентов корреляции"
   ]
  },
  {
   "cell_type": "code",
   "execution_count": null,
   "metadata": {
    "id": "TaRdSpOqJSdW",
    "outputId": "efb50acd-4db2-450e-8aab-b7cab3846540"
   },
   "outputs": [
    {
     "data": {
      "text/html": [
       "<div>\n",
       "<style scoped>\n",
       "    .dataframe tbody tr th:only-of-type {\n",
       "        vertical-align: middle;\n",
       "    }\n",
       "\n",
       "    .dataframe tbody tr th {\n",
       "        vertical-align: top;\n",
       "    }\n",
       "\n",
       "    .dataframe thead th {\n",
       "        text-align: right;\n",
       "    }\n",
       "</style>\n",
       "<table border=\"1\" class=\"dataframe\">\n",
       "  <thead>\n",
       "    <tr style=\"text-align: right;\">\n",
       "      <th></th>\n",
       "      <th>x78</th>\n",
       "      <th>x63</th>\n",
       "      <th>х44</th>\n",
       "      <th>x45</th>\n",
       "      <th>x41</th>\n",
       "      <th>x40</th>\n",
       "      <th>x31</th>\n",
       "    </tr>\n",
       "  </thead>\n",
       "  <tbody>\n",
       "    <tr>\n",
       "      <th>x78</th>\n",
       "      <td>0.130652</td>\n",
       "      <td>-0.002426</td>\n",
       "      <td>0.048147</td>\n",
       "      <td>0.018708</td>\n",
       "      <td>0.006026</td>\n",
       "      <td>0.005475</td>\n",
       "      <td>-0.028652</td>\n",
       "    </tr>\n",
       "    <tr>\n",
       "      <th>x63</th>\n",
       "      <td>-0.002426</td>\n",
       "      <td>0.074596</td>\n",
       "      <td>-0.006187</td>\n",
       "      <td>-0.013882</td>\n",
       "      <td>-0.016165</td>\n",
       "      <td>0.016751</td>\n",
       "      <td>-0.025429</td>\n",
       "    </tr>\n",
       "    <tr>\n",
       "      <th>х44</th>\n",
       "      <td>0.048147</td>\n",
       "      <td>-0.006187</td>\n",
       "      <td>0.184418</td>\n",
       "      <td>-0.007480</td>\n",
       "      <td>-0.011020</td>\n",
       "      <td>0.014828</td>\n",
       "      <td>0.006366</td>\n",
       "    </tr>\n",
       "    <tr>\n",
       "      <th>x45</th>\n",
       "      <td>0.018708</td>\n",
       "      <td>-0.013882</td>\n",
       "      <td>-0.007480</td>\n",
       "      <td>0.066257</td>\n",
       "      <td>-0.007947</td>\n",
       "      <td>-0.019596</td>\n",
       "      <td>0.012960</td>\n",
       "    </tr>\n",
       "    <tr>\n",
       "      <th>x41</th>\n",
       "      <td>0.006026</td>\n",
       "      <td>-0.016165</td>\n",
       "      <td>-0.011020</td>\n",
       "      <td>-0.007947</td>\n",
       "      <td>0.786363</td>\n",
       "      <td>0.004618</td>\n",
       "      <td>-0.040205</td>\n",
       "    </tr>\n",
       "    <tr>\n",
       "      <th>x40</th>\n",
       "      <td>0.005475</td>\n",
       "      <td>0.016751</td>\n",
       "      <td>0.014828</td>\n",
       "      <td>-0.019596</td>\n",
       "      <td>0.004618</td>\n",
       "      <td>0.535722</td>\n",
       "      <td>0.032854</td>\n",
       "    </tr>\n",
       "    <tr>\n",
       "      <th>x31</th>\n",
       "      <td>-0.028652</td>\n",
       "      <td>-0.025429</td>\n",
       "      <td>0.006366</td>\n",
       "      <td>0.012960</td>\n",
       "      <td>-0.040205</td>\n",
       "      <td>0.032854</td>\n",
       "      <td>0.514945</td>\n",
       "    </tr>\n",
       "  </tbody>\n",
       "</table>\n",
       "</div>"
      ],
      "text/plain": [
       "          x78       x63       х44       x45       x41       x40       x31\n",
       "x78  0.130652 -0.002426  0.048147  0.018708  0.006026  0.005475 -0.028652\n",
       "x63 -0.002426  0.074596 -0.006187 -0.013882 -0.016165  0.016751 -0.025429\n",
       "х44  0.048147 -0.006187  0.184418 -0.007480 -0.011020  0.014828  0.006366\n",
       "x45  0.018708 -0.013882 -0.007480  0.066257 -0.007947 -0.019596  0.012960\n",
       "x41  0.006026 -0.016165 -0.011020 -0.007947  0.786363  0.004618 -0.040205\n",
       "x40  0.005475  0.016751  0.014828 -0.019596  0.004618  0.535722  0.032854\n",
       "x31 -0.028652 -0.025429  0.006366  0.012960 -0.040205  0.032854  0.514945"
      ]
     },
     "execution_count": 98,
     "metadata": {
      "tags": []
     },
     "output_type": "execute_result"
    }
   ],
   "source": [
    "D2 = correlations.values - Rh_real\n",
    "\n",
    "pd.DataFrame(D2,index = features,columns = features)"
   ]
  },
  {
   "cell_type": "markdown",
   "metadata": {
    "id": "q9lZAZvNJSdW"
   },
   "source": [
    "## Оценки характерностей"
   ]
  },
  {
   "cell_type": "code",
   "execution_count": null,
   "metadata": {
    "id": "E7IpSvVcJSdX",
    "outputId": "ec8a907b-ed85-436f-894f-092a09451e21"
   },
   "outputs": [
    {
     "data": {
      "text/plain": [
       "[0.3614580381917531,\n",
       " 0.2731223057998999,\n",
       " 0.42943968463375387,\n",
       " 0.2574040993038729,\n",
       " 0.8867711617391063,\n",
       " 0.731930658599499,\n",
       " 0.7175966046202393]"
      ]
     },
     "execution_count": 99,
     "metadata": {
      "tags": []
     },
     "output_type": "execute_result"
    }
   ],
   "source": [
    "charact =[]\n",
    "for i in range(D2.shape[0]):\n",
    "    charact.append (math.sqrt(D2[i][i]))\n",
    "    \n",
    "charact"
   ]
  },
  {
   "cell_type": "markdown",
   "metadata": {
    "id": "cBMoWhRTJSdX"
   },
   "source": [
    "## Связь исходных признаков с главными факторами"
   ]
  },
  {
   "cell_type": "code",
   "execution_count": null,
   "metadata": {
    "id": "jAqNHkvUJSdX",
    "outputId": "5fcfe9cc-37f7-477c-90bb-ca765d25f823"
   },
   "outputs": [
    {
     "name": "stdout",
     "output_type": "stream",
     "text": [
      "x78 = 0.015*F1 + 0.922*F2 + 0.139*F3 + 0.361*D1\n",
      "x63 = -0.037*F1 + -0.237*F2 + 0.932*F3 + 0.273*D2\n",
      "х44 = 0.283*F1 + 0.820*F2 + 0.250*F3 + 0.429*D3\n",
      "x45 = 0.001*F1 + 0.284*F2 + -0.924*F3 + 0.257*D4\n",
      "x41 = -0.359*F1 + 0.227*F2 + 0.182*F3 + 0.887*D5\n",
      "x40 = 0.369*F1 + -0.059*F2 + 0.570*F3 + 0.732*D6\n",
      "x31 = 0.444*F1 + -0.347*F2 + -0.410*F3 + 0.718*D7\n"
     ]
    }
   ],
   "source": [
    "for i in range(0,f_len):\n",
    "    print('{} = {:.3f}*F{} + {:.3f}*F{} + {:.3f}*F{} + {:.3f}*D{}'.format(features[i], B[i,0], 1, B[i,1], 2, B[i, 2], 3, charact[i], i+1))"
   ]
  },
  {
   "cell_type": "markdown",
   "metadata": {
    "id": "X2bVoy3GJSdY"
   },
   "source": [
    "## Индивидуальные значения главных факторов, полученные методом Бартлетта"
   ]
  },
  {
   "cell_type": "code",
   "execution_count": null,
   "metadata": {
    "id": "blreK1HQJSdZ",
    "outputId": "b494304e-a341-4efa-f638-46d6224b6c29"
   },
   "outputs": [
    {
     "data": {
      "text/html": [
       "<div>\n",
       "<style scoped>\n",
       "    .dataframe tbody tr th:only-of-type {\n",
       "        vertical-align: middle;\n",
       "    }\n",
       "\n",
       "    .dataframe tbody tr th {\n",
       "        vertical-align: top;\n",
       "    }\n",
       "\n",
       "    .dataframe thead th {\n",
       "        text-align: right;\n",
       "    }\n",
       "</style>\n",
       "<table border=\"1\" class=\"dataframe\">\n",
       "  <thead>\n",
       "    <tr style=\"text-align: right;\">\n",
       "      <th></th>\n",
       "      <th>Factor1_lect</th>\n",
       "      <th>Factor2_lect</th>\n",
       "      <th>Factor3_lect</th>\n",
       "    </tr>\n",
       "  </thead>\n",
       "  <tbody>\n",
       "    <tr>\n",
       "      <th>0</th>\n",
       "      <td>-1.305878</td>\n",
       "      <td>0.109494</td>\n",
       "      <td>-0.723337</td>\n",
       "    </tr>\n",
       "    <tr>\n",
       "      <th>1</th>\n",
       "      <td>-1.141965</td>\n",
       "      <td>-0.465299</td>\n",
       "      <td>0.218534</td>\n",
       "    </tr>\n",
       "    <tr>\n",
       "      <th>2</th>\n",
       "      <td>-0.036973</td>\n",
       "      <td>-0.297371</td>\n",
       "      <td>0.485797</td>\n",
       "    </tr>\n",
       "    <tr>\n",
       "      <th>3</th>\n",
       "      <td>-0.888215</td>\n",
       "      <td>0.220155</td>\n",
       "      <td>-0.332436</td>\n",
       "    </tr>\n",
       "    <tr>\n",
       "      <th>4</th>\n",
       "      <td>-0.513263</td>\n",
       "      <td>-0.421988</td>\n",
       "      <td>0.380742</td>\n",
       "    </tr>\n",
       "    <tr>\n",
       "      <th>...</th>\n",
       "      <td>...</td>\n",
       "      <td>...</td>\n",
       "      <td>...</td>\n",
       "    </tr>\n",
       "    <tr>\n",
       "      <th>82</th>\n",
       "      <td>0.651268</td>\n",
       "      <td>-0.340190</td>\n",
       "      <td>1.228234</td>\n",
       "    </tr>\n",
       "    <tr>\n",
       "      <th>83</th>\n",
       "      <td>-1.466289</td>\n",
       "      <td>-0.969619</td>\n",
       "      <td>0.968021</td>\n",
       "    </tr>\n",
       "    <tr>\n",
       "      <th>84</th>\n",
       "      <td>-1.116769</td>\n",
       "      <td>-0.669668</td>\n",
       "      <td>0.824068</td>\n",
       "    </tr>\n",
       "    <tr>\n",
       "      <th>85</th>\n",
       "      <td>0.393875</td>\n",
       "      <td>-1.268209</td>\n",
       "      <td>1.013901</td>\n",
       "    </tr>\n",
       "    <tr>\n",
       "      <th>86</th>\n",
       "      <td>-3.684889</td>\n",
       "      <td>-1.431531</td>\n",
       "      <td>3.312289</td>\n",
       "    </tr>\n",
       "  </tbody>\n",
       "</table>\n",
       "<p>87 rows × 3 columns</p>\n",
       "</div>"
      ],
      "text/plain": [
       "    Factor1_lect  Factor2_lect  Factor3_lect\n",
       "0      -1.305878      0.109494     -0.723337\n",
       "1      -1.141965     -0.465299      0.218534\n",
       "2      -0.036973     -0.297371      0.485797\n",
       "3      -0.888215      0.220155     -0.332436\n",
       "4      -0.513263     -0.421988      0.380742\n",
       "..           ...           ...           ...\n",
       "82      0.651268     -0.340190      1.228234\n",
       "83     -1.466289     -0.969619      0.968021\n",
       "84     -1.116769     -0.669668      0.824068\n",
       "85      0.393875     -1.268209      1.013901\n",
       "86     -3.684889     -1.431531      3.312289\n",
       "\n",
       "[87 rows x 3 columns]"
      ]
     },
     "execution_count": 135,
     "metadata": {
      "tags": []
     },
     "output_type": "execute_result"
    }
   ],
   "source": [
    "scr_charact = np.eye(f_len)\n",
    "for i in range(f_len):\n",
    "    scr_charact[i][i] = D2[i][i]\n",
    "\n",
    "Q = np.linalg.inv(np.dot(np.dot(B.T, np.linalg.inv(scr_charact)), B))\n",
    "W = np.dot(np.dot(B.T,np.linalg.inv(scr_charact)),data.values.T)\n",
    "F = np.dot(Q, W)\n",
    "df_factor_scores_lect = pd.DataFrame (data =F.T,index = index, columns = ['Factor1_lect','Factor2_lect', 'Factor3_lect'] )\n",
    "                  \n",
    "df_factor_scores_lect"
   ]
  },
  {
   "cell_type": "markdown",
   "metadata": {
    "id": "YO6Wial1JSdZ"
   },
   "source": [
    "## Индивидуальные значения главных факторов, полученные методом, который используется в программе Statistica"
   ]
  },
  {
   "cell_type": "code",
   "execution_count": null,
   "metadata": {
    "id": "fZqZsMV2JSdZ",
    "outputId": "ada54655-0e2b-43c6-cec4-a4076f2513e3"
   },
   "outputs": [
    {
     "data": {
      "text/html": [
       "<div>\n",
       "<style scoped>\n",
       "    .dataframe tbody tr th:only-of-type {\n",
       "        vertical-align: middle;\n",
       "    }\n",
       "\n",
       "    .dataframe tbody tr th {\n",
       "        vertical-align: top;\n",
       "    }\n",
       "\n",
       "    .dataframe thead th {\n",
       "        text-align: right;\n",
       "    }\n",
       "</style>\n",
       "<table border=\"1\" class=\"dataframe\">\n",
       "  <thead>\n",
       "    <tr style=\"text-align: right;\">\n",
       "      <th></th>\n",
       "      <th>Factor1_stat</th>\n",
       "      <th>Factor2_stat</th>\n",
       "      <th>Factor3_stat</th>\n",
       "    </tr>\n",
       "  </thead>\n",
       "  <tbody>\n",
       "    <tr>\n",
       "      <th>0</th>\n",
       "      <td>-0.702896</td>\n",
       "      <td>-0.068656</td>\n",
       "      <td>-0.691216</td>\n",
       "    </tr>\n",
       "    <tr>\n",
       "      <th>1</th>\n",
       "      <td>0.202642</td>\n",
       "      <td>0.465511</td>\n",
       "      <td>-0.594999</td>\n",
       "    </tr>\n",
       "    <tr>\n",
       "      <th>2</th>\n",
       "      <td>0.451972</td>\n",
       "      <td>0.276193</td>\n",
       "      <td>-0.038995</td>\n",
       "    </tr>\n",
       "    <tr>\n",
       "      <th>3</th>\n",
       "      <td>-0.342562</td>\n",
       "      <td>-0.170000</td>\n",
       "      <td>-0.457376</td>\n",
       "    </tr>\n",
       "    <tr>\n",
       "      <th>4</th>\n",
       "      <td>0.352102</td>\n",
       "      <td>0.404338</td>\n",
       "      <td>-0.279712</td>\n",
       "    </tr>\n",
       "    <tr>\n",
       "      <th>...</th>\n",
       "      <td>...</td>\n",
       "      <td>...</td>\n",
       "      <td>...</td>\n",
       "    </tr>\n",
       "    <tr>\n",
       "      <th>82</th>\n",
       "      <td>1.179626</td>\n",
       "      <td>0.293772</td>\n",
       "      <td>0.315544</td>\n",
       "    </tr>\n",
       "    <tr>\n",
       "      <th>83</th>\n",
       "      <td>0.933482</td>\n",
       "      <td>0.931188</td>\n",
       "      <td>-0.770914</td>\n",
       "    </tr>\n",
       "    <tr>\n",
       "      <th>84</th>\n",
       "      <td>0.804395</td>\n",
       "      <td>0.642485</td>\n",
       "      <td>-0.599656</td>\n",
       "    </tr>\n",
       "    <tr>\n",
       "      <th>85</th>\n",
       "      <td>1.022356</td>\n",
       "      <td>1.104120</td>\n",
       "      <td>0.067455</td>\n",
       "    </tr>\n",
       "    <tr>\n",
       "      <th>86</th>\n",
       "      <td>3.282884</td>\n",
       "      <td>1.423454</td>\n",
       "      <td>-1.982842</td>\n",
       "    </tr>\n",
       "  </tbody>\n",
       "</table>\n",
       "<p>87 rows × 3 columns</p>\n",
       "</div>"
      ],
      "text/plain": [
       "    Factor1_stat  Factor2_stat  Factor3_stat\n",
       "0      -0.702896     -0.068656     -0.691216\n",
       "1       0.202642      0.465511     -0.594999\n",
       "2       0.451972      0.276193     -0.038995\n",
       "3      -0.342562     -0.170000     -0.457376\n",
       "4       0.352102      0.404338     -0.279712\n",
       "..           ...           ...           ...\n",
       "82      1.179626      0.293772      0.315544\n",
       "83      0.933482      0.931188     -0.770914\n",
       "84      0.804395      0.642485     -0.599656\n",
       "85      1.022356      1.104120      0.067455\n",
       "86      3.282884      1.423454     -1.982842\n",
       "\n",
       "[87 rows x 3 columns]"
      ]
     },
     "execution_count": 105,
     "metadata": {
      "tags": []
     },
     "output_type": "execute_result"
    }
   ],
   "source": [
    "factor_score_coefficients = np.dot(np.linalg.inv(correlations),B)\n",
    "factor_scores = np.dot (data.values,factor_score_coefficients)\n",
    "df_factor_scores_stat = pd.DataFrame (data = factor_scores,index = index , columns = ['Factor1_stat','Factor2_stat', 'Factor3_stat'])\n",
    "df_factor_scores_stat"
   ]
  },
  {
   "cell_type": "markdown",
   "metadata": {
    "id": "q17tU8xvJSda"
   },
   "source": [
    "## Собираем результат"
   ]
  },
  {
   "cell_type": "code",
   "execution_count": null,
   "metadata": {
    "id": "UGEitlJ5JSdb",
    "outputId": "eedd9249-47bf-4cfd-a12b-0029bee9dd0d"
   },
   "outputs": [
    {
     "data": {
      "text/html": [
       "<div>\n",
       "<style scoped>\n",
       "    .dataframe tbody tr th:only-of-type {\n",
       "        vertical-align: middle;\n",
       "    }\n",
       "\n",
       "    .dataframe tbody tr th {\n",
       "        vertical-align: top;\n",
       "    }\n",
       "\n",
       "    .dataframe thead th {\n",
       "        text-align: right;\n",
       "    }\n",
       "</style>\n",
       "<table border=\"1\" class=\"dataframe\">\n",
       "  <thead>\n",
       "    <tr style=\"text-align: right;\">\n",
       "      <th></th>\n",
       "      <th>Factor1_lect</th>\n",
       "      <th>Factor2_lect</th>\n",
       "      <th>Factor3_lect</th>\n",
       "      <th>Factor1_stat</th>\n",
       "      <th>Factor2_stat</th>\n",
       "      <th>Factor3_stat</th>\n",
       "    </tr>\n",
       "  </thead>\n",
       "  <tbody>\n",
       "    <tr>\n",
       "      <th>0</th>\n",
       "      <td>-0.723425</td>\n",
       "      <td>-0.110998</td>\n",
       "      <td>-1.305702</td>\n",
       "      <td>-0.702896</td>\n",
       "      <td>-0.068656</td>\n",
       "      <td>-0.691216</td>\n",
       "    </tr>\n",
       "    <tr>\n",
       "      <th>1</th>\n",
       "      <td>0.218904</td>\n",
       "      <td>0.463305</td>\n",
       "      <td>-1.142704</td>\n",
       "      <td>0.202642</td>\n",
       "      <td>0.465511</td>\n",
       "      <td>-0.594999</td>\n",
       "    </tr>\n",
       "    <tr>\n",
       "      <th>2</th>\n",
       "      <td>0.486034</td>\n",
       "      <td>0.296925</td>\n",
       "      <td>-0.037446</td>\n",
       "      <td>0.451972</td>\n",
       "      <td>0.276193</td>\n",
       "      <td>-0.038995</td>\n",
       "    </tr>\n",
       "    <tr>\n",
       "      <th>3</th>\n",
       "      <td>-0.332611</td>\n",
       "      <td>-0.221305</td>\n",
       "      <td>-0.887863</td>\n",
       "      <td>-0.342562</td>\n",
       "      <td>-0.170000</td>\n",
       "      <td>-0.457376</td>\n",
       "    </tr>\n",
       "    <tr>\n",
       "      <th>4</th>\n",
       "      <td>0.381078</td>\n",
       "      <td>0.420867</td>\n",
       "      <td>-0.513934</td>\n",
       "      <td>0.352102</td>\n",
       "      <td>0.404338</td>\n",
       "      <td>-0.279712</td>\n",
       "    </tr>\n",
       "    <tr>\n",
       "      <th>...</th>\n",
       "      <td>...</td>\n",
       "      <td>...</td>\n",
       "      <td>...</td>\n",
       "      <td>...</td>\n",
       "      <td>...</td>\n",
       "      <td>...</td>\n",
       "    </tr>\n",
       "    <tr>\n",
       "      <th>82</th>\n",
       "      <td>1.228505</td>\n",
       "      <td>0.340249</td>\n",
       "      <td>0.650726</td>\n",
       "      <td>1.179626</td>\n",
       "      <td>0.293772</td>\n",
       "      <td>0.315544</td>\n",
       "    </tr>\n",
       "    <tr>\n",
       "      <th>83</th>\n",
       "      <td>0.968792</td>\n",
       "      <td>0.966511</td>\n",
       "      <td>-1.467831</td>\n",
       "      <td>0.933482</td>\n",
       "      <td>0.931188</td>\n",
       "      <td>-0.770914</td>\n",
       "    </tr>\n",
       "    <tr>\n",
       "      <th>84</th>\n",
       "      <td>0.824601</td>\n",
       "      <td>0.667233</td>\n",
       "      <td>-1.117834</td>\n",
       "      <td>0.804395</td>\n",
       "      <td>0.642485</td>\n",
       "      <td>-0.599656</td>\n",
       "    </tr>\n",
       "    <tr>\n",
       "      <th>85</th>\n",
       "      <td>1.014911</td>\n",
       "      <td>1.268027</td>\n",
       "      <td>0.391856</td>\n",
       "      <td>1.022356</td>\n",
       "      <td>1.104120</td>\n",
       "      <td>0.067455</td>\n",
       "    </tr>\n",
       "    <tr>\n",
       "      <th>86</th>\n",
       "      <td>3.313425</td>\n",
       "      <td>1.423023</td>\n",
       "      <td>-3.687162</td>\n",
       "      <td>3.282884</td>\n",
       "      <td>1.423454</td>\n",
       "      <td>-1.982842</td>\n",
       "    </tr>\n",
       "  </tbody>\n",
       "</table>\n",
       "<p>87 rows × 6 columns</p>\n",
       "</div>"
      ],
      "text/plain": [
       "    Factor1_lect  Factor2_lect  Factor3_lect  Factor1_stat  Factor2_stat  \\\n",
       "0      -0.723425     -0.110998     -1.305702     -0.702896     -0.068656   \n",
       "1       0.218904      0.463305     -1.142704      0.202642      0.465511   \n",
       "2       0.486034      0.296925     -0.037446      0.451972      0.276193   \n",
       "3      -0.332611     -0.221305     -0.887863     -0.342562     -0.170000   \n",
       "4       0.381078      0.420867     -0.513934      0.352102      0.404338   \n",
       "..           ...           ...           ...           ...           ...   \n",
       "82      1.228505      0.340249      0.650726      1.179626      0.293772   \n",
       "83      0.968792      0.966511     -1.467831      0.933482      0.931188   \n",
       "84      0.824601      0.667233     -1.117834      0.804395      0.642485   \n",
       "85      1.014911      1.268027      0.391856      1.022356      1.104120   \n",
       "86      3.313425      1.423023     -3.687162      3.282884      1.423454   \n",
       "\n",
       "    Factor3_stat  \n",
       "0      -0.691216  \n",
       "1      -0.594999  \n",
       "2      -0.038995  \n",
       "3      -0.457376  \n",
       "4      -0.279712  \n",
       "..           ...  \n",
       "82      0.315544  \n",
       "83     -0.770914  \n",
       "84     -0.599656  \n",
       "85      0.067455  \n",
       "86     -1.982842  \n",
       "\n",
       "[87 rows x 6 columns]"
      ]
     },
     "execution_count": 106,
     "metadata": {
      "tags": []
     },
     "output_type": "execute_result"
    }
   ],
   "source": [
    "df_result = pd.concat([df_factor_scores_lect, df_factor_scores_stat], axis=1)\n",
    "\n",
    "df_result"
   ]
  },
  {
   "cell_type": "code",
   "execution_count": null,
   "metadata": {
    "id": "RAX1z9x9JSdc"
   },
   "outputs": [],
   "source": [
    "df_result.to_excel('4lab_result.xlsx')"
   ]
  }
 ],
 "metadata": {
  "colab": {
   "name": "Факторный анализ в Python.ipynb",
   "provenance": []
  },
  "kernelspec": {
   "display_name": "Python 3 (ipykernel)",
   "language": "python",
   "name": "python3"
  },
  "language_info": {
   "codemirror_mode": {
    "name": "ipython",
    "version": 3
   },
   "file_extension": ".py",
   "mimetype": "text/x-python",
   "name": "python",
   "nbconvert_exporter": "python",
   "pygments_lexer": "ipython3",
   "version": "3.9.4"
  }
 },
 "nbformat": 4,
 "nbformat_minor": 4
}
