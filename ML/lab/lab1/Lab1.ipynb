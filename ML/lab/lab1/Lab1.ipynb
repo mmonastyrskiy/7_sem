{
 "cells": [
  {
   "cell_type": "code",
   "execution_count": 2,
   "id": "89a70550-5827-4f42-8e50-00f6617a016c",
   "metadata": {},
   "outputs": [],
   "source": [
    "import zipfile\n",
    "with zipfile.ZipFile(\"archive.zip\",\"r\") as f:\n",
    "    f.extractall(\".\")\n"
   ]
  },
  {
   "cell_type": "code",
   "execution_count": 155,
   "id": "d4609977-45be-45f2-91f7-31f2fcd0446b",
   "metadata": {},
   "outputs": [],
   "source": [
    "import pandas as pd\n",
    "pd.options.mode.chained_assignment = None"
   ]
  },
  {
   "cell_type": "code",
   "execution_count": 131,
   "id": "ef4eb872-dce1-4d96-a11b-d5d65b3890eb",
   "metadata": {},
   "outputs": [
    {
     "data": {
      "text/plain": [
       "lat                     float64\n",
       "ing                     float64\n",
       "desc                     object\n",
       "zip                     float64\n",
       "title                    object\n",
       "accident_time    datetime64[ns]\n",
       "town                     object\n",
       "address                  object\n",
       "e                         int64\n",
       "dtype: object"
      ]
     },
     "execution_count": 131,
     "metadata": {},
     "output_type": "execute_result"
    }
   ],
   "source": [
    "## Task 1\n",
    "df = pd.read_csv(\"911.csv\",\n",
    "                 encoding=\"cp1251\",\n",
    "                names=[\"lat\", \"ing\", \"desc\", \"zip\", \"title\", \"accident_time\", \"town\", \"address\", \"e\"],\n",
    "                 skiprows=1,\n",
    "                parse_dates=[\"accident_time\"])\n",
    "df.dtypes"
   ]
  },
  {
   "cell_type": "code",
   "execution_count": 132,
   "id": "e2dda634-9672-4a63-81c0-9b85d515c0b6",
   "metadata": {},
   "outputs": [
    {
     "data": {
      "text/plain": [
       "lat                     float64\n",
       "ing                     float64\n",
       "title                    object\n",
       "accident_time    datetime64[ns]\n",
       "town                     object\n",
       "dtype: object"
      ]
     },
     "execution_count": 132,
     "metadata": {},
     "output_type": "execute_result"
    }
   ],
   "source": [
    "## TASK 2 \n",
    "df.drop([\"desc\",\"zip\",\"address\",\"e\"],inplace=True,axis=1)\n",
    "df.dtypes"
   ]
  },
  {
   "cell_type": "code",
   "execution_count": 133,
   "id": "07b59f5b-41fe-4723-b7fb-70051940feb7",
   "metadata": {},
   "outputs": [],
   "source": [
    "## Task 3\n",
    "df = df.iloc[:,[-1,0,1,3,2]]"
   ]
  },
  {
   "cell_type": "code",
   "execution_count": 134,
   "id": "06cae4c1-e4bd-4f65-8cac-878fe283a620",
   "metadata": {},
   "outputs": [
    {
     "data": {
      "text/html": [
       "<div>\n",
       "<style scoped>\n",
       "    .dataframe tbody tr th:only-of-type {\n",
       "        vertical-align: middle;\n",
       "    }\n",
       "\n",
       "    .dataframe tbody tr th {\n",
       "        vertical-align: top;\n",
       "    }\n",
       "\n",
       "    .dataframe thead th {\n",
       "        text-align: right;\n",
       "    }\n",
       "</style>\n",
       "<table border=\"1\" class=\"dataframe\">\n",
       "  <thead>\n",
       "    <tr style=\"text-align: right;\">\n",
       "      <th></th>\n",
       "      <th>town</th>\n",
       "      <th>lat</th>\n",
       "      <th>ing</th>\n",
       "      <th>accident_time</th>\n",
       "      <th>title</th>\n",
       "    </tr>\n",
       "  </thead>\n",
       "  <tbody>\n",
       "    <tr>\n",
       "      <th>0</th>\n",
       "      <td>NEW HANOVER</td>\n",
       "      <td>40.297876</td>\n",
       "      <td>-75.581294</td>\n",
       "      <td>2015-12-10 17:10:52</td>\n",
       "      <td>EMS: BACK PAINS/INJURY</td>\n",
       "    </tr>\n",
       "  </tbody>\n",
       "</table>\n",
       "</div>"
      ],
      "text/plain": [
       "          town        lat        ing       accident_time  \\\n",
       "0  NEW HANOVER  40.297876 -75.581294 2015-12-10 17:10:52   \n",
       "\n",
       "                    title  \n",
       "0  EMS: BACK PAINS/INJURY  "
      ]
     },
     "execution_count": 134,
     "metadata": {},
     "output_type": "execute_result"
    }
   ],
   "source": [
    "df.head(1)"
   ]
  },
  {
   "cell_type": "code",
   "execution_count": 180,
   "id": "6108bb68-7e7e-409d-9757-590c0ee0e789",
   "metadata": {},
   "outputs": [],
   "source": [
    "#Task 4 \n",
    "towns_df = df[\"town\"].value_counts(ascending=True)"
   ]
  },
  {
   "cell_type": "code",
   "execution_count": 181,
   "id": "3ca56d81-ffef-4066-a618-f5dbd69704e3",
   "metadata": {},
   "outputs": [
    {
     "data": {
      "text/plain": [
       "LEHIGH COUNTY        190\n",
       "PHILA COUNTY         267\n",
       "GREEN LANE           385\n",
       "BRYN ATHYN          1254\n",
       "EAST GREENVILLE     1316\n",
       "                   ...  \n",
       "CHELTENHAM         30574\n",
       "UPPER MERION       36010\n",
       "NORRISTOWN         37633\n",
       "ABINGTON           39947\n",
       "LOWER MERION       55490\n",
       "Name: town, Length: 68, dtype: int64"
      ]
     },
     "execution_count": 181,
     "metadata": {},
     "output_type": "execute_result"
    }
   ],
   "source": [
    "towns_df"
   ]
  },
  {
   "cell_type": "code",
   "execution_count": 190,
   "id": "4e48a1db-8d3c-4cbe-b111-1683b337098d",
   "metadata": {},
   "outputs": [
    {
     "data": {
      "text/html": [
       "<div>\n",
       "<style scoped>\n",
       "    .dataframe tbody tr th:only-of-type {\n",
       "        vertical-align: middle;\n",
       "    }\n",
       "\n",
       "    .dataframe tbody tr th {\n",
       "        vertical-align: top;\n",
       "    }\n",
       "\n",
       "    .dataframe thead th {\n",
       "        text-align: right;\n",
       "    }\n",
       "</style>\n",
       "<table border=\"1\" class=\"dataframe\">\n",
       "  <thead>\n",
       "    <tr style=\"text-align: right;\">\n",
       "      <th></th>\n",
       "      <th>town</th>\n",
       "      <th>lat</th>\n",
       "      <th>ing</th>\n",
       "      <th>accident_time</th>\n",
       "      <th>title</th>\n",
       "    </tr>\n",
       "  </thead>\n",
       "  <tbody>\n",
       "    <tr>\n",
       "      <th>42</th>\n",
       "      <td>LOWER MERION</td>\n",
       "      <td>40.024967</td>\n",
       "      <td>-75.282905</td>\n",
       "      <td>2015-12-10 18:43:07</td>\n",
       "      <td>EMS: CARDIAC EMERGENCY</td>\n",
       "    </tr>\n",
       "    <tr>\n",
       "      <th>52</th>\n",
       "      <td>LOWER MERION</td>\n",
       "      <td>40.051283</td>\n",
       "      <td>-75.296852</td>\n",
       "      <td>2015-12-10 19:09:42</td>\n",
       "      <td>Fire: FIRE ALARM</td>\n",
       "    </tr>\n",
       "    <tr>\n",
       "      <th>59</th>\n",
       "      <td>LOWER MERION</td>\n",
       "      <td>40.020373</td>\n",
       "      <td>-75.309258</td>\n",
       "      <td>2015-12-10 19:25:22</td>\n",
       "      <td>Traffic: DISABLED VEHICLE -</td>\n",
       "    </tr>\n",
       "    <tr>\n",
       "      <th>70</th>\n",
       "      <td>LOWER MERION</td>\n",
       "      <td>40.024967</td>\n",
       "      <td>-75.282905</td>\n",
       "      <td>2015-12-10 20:01:29</td>\n",
       "      <td>Fire: GAS-ODOR/LEAK</td>\n",
       "    </tr>\n",
       "    <tr>\n",
       "      <th>71</th>\n",
       "      <td>LOWER MERION</td>\n",
       "      <td>39.986770</td>\n",
       "      <td>-75.275434</td>\n",
       "      <td>2015-12-10 20:05:27</td>\n",
       "      <td>EMS: DIABETIC EMERGENCY</td>\n",
       "    </tr>\n",
       "    <tr>\n",
       "      <th>...</th>\n",
       "      <td>...</td>\n",
       "      <td>...</td>\n",
       "      <td>...</td>\n",
       "      <td>...</td>\n",
       "      <td>...</td>\n",
       "    </tr>\n",
       "    <tr>\n",
       "      <th>663490</th>\n",
       "      <td>ABINGTON</td>\n",
       "      <td>40.135188</td>\n",
       "      <td>-75.110474</td>\n",
       "      <td>2020-07-29 14:44:37</td>\n",
       "      <td>EMS: ANIMAL BITE</td>\n",
       "    </tr>\n",
       "    <tr>\n",
       "      <th>663506</th>\n",
       "      <td>ABINGTON</td>\n",
       "      <td>40.121341</td>\n",
       "      <td>-75.133677</td>\n",
       "      <td>2020-07-29 15:30:22</td>\n",
       "      <td>EMS: VEHICLE ACCIDENT</td>\n",
       "    </tr>\n",
       "    <tr>\n",
       "      <th>663507</th>\n",
       "      <td>ABINGTON</td>\n",
       "      <td>40.101385</td>\n",
       "      <td>-75.099434</td>\n",
       "      <td>2020-07-29 15:28:16</td>\n",
       "      <td>Traffic: VEHICLE ACCIDENT -</td>\n",
       "    </tr>\n",
       "    <tr>\n",
       "      <th>663519</th>\n",
       "      <td>LOWER MERION</td>\n",
       "      <td>40.013779</td>\n",
       "      <td>-75.300835</td>\n",
       "      <td>2020-07-29 15:52:52</td>\n",
       "      <td>EMS: VEHICLE ACCIDENT</td>\n",
       "    </tr>\n",
       "    <tr>\n",
       "      <th>663521</th>\n",
       "      <td>LOWER MERION</td>\n",
       "      <td>40.015046</td>\n",
       "      <td>-75.299674</td>\n",
       "      <td>2020-07-29 15:52:46</td>\n",
       "      <td>Traffic: VEHICLE ACCIDENT -</td>\n",
       "    </tr>\n",
       "  </tbody>\n",
       "</table>\n",
       "<p>95894 rows × 5 columns</p>\n",
       "</div>"
      ],
      "text/plain": [
       "                town        lat        ing       accident_time  \\\n",
       "42      LOWER MERION  40.024967 -75.282905 2015-12-10 18:43:07   \n",
       "52      LOWER MERION  40.051283 -75.296852 2015-12-10 19:09:42   \n",
       "59      LOWER MERION  40.020373 -75.309258 2015-12-10 19:25:22   \n",
       "70      LOWER MERION  40.024967 -75.282905 2015-12-10 20:01:29   \n",
       "71      LOWER MERION  39.986770 -75.275434 2015-12-10 20:05:27   \n",
       "...              ...        ...        ...                 ...   \n",
       "663490      ABINGTON  40.135188 -75.110474 2020-07-29 14:44:37   \n",
       "663506      ABINGTON  40.121341 -75.133677 2020-07-29 15:30:22   \n",
       "663507      ABINGTON  40.101385 -75.099434 2020-07-29 15:28:16   \n",
       "663519  LOWER MERION  40.013779 -75.300835 2020-07-29 15:52:52   \n",
       "663521  LOWER MERION  40.015046 -75.299674 2020-07-29 15:52:46   \n",
       "\n",
       "                              title  \n",
       "42           EMS: CARDIAC EMERGENCY  \n",
       "52                 Fire: FIRE ALARM  \n",
       "59      Traffic: DISABLED VEHICLE -  \n",
       "70              Fire: GAS-ODOR/LEAK  \n",
       "71          EMS: DIABETIC EMERGENCY  \n",
       "...                             ...  \n",
       "663490             EMS: ANIMAL BITE  \n",
       "663506        EMS: VEHICLE ACCIDENT  \n",
       "663507  Traffic: VEHICLE ACCIDENT -  \n",
       "663519        EMS: VEHICLE ACCIDENT  \n",
       "663521  Traffic: VEHICLE ACCIDENT -  \n",
       "\n",
       "[95894 rows x 5 columns]"
      ]
     },
     "execution_count": 190,
     "metadata": {},
     "output_type": "execute_result"
    }
   ],
   "source": [
    "## TASK 5\n",
    "t5_df = df[df[\"town\"].isin(towns_df.iloc[[0,1,-1,-2]].index.tolist())]\n",
    "t5_df"
   ]
  },
  {
   "cell_type": "code",
   "execution_count": 191,
   "id": "134606c6-436f-42ab-8ee5-c534aada886b",
   "metadata": {},
   "outputs": [],
   "source": [
    "## Task 6\n",
    "df_t6 = df[~df[\"town\"].isin(towns_df.iloc[[0,1,-1,-2]].index.tolist())].dropna(subset=[\"town\"])\n",
    "df_t6\n",
    "df_t6[\"hour\"] = df_t6[\"accident_time\"].dt.hour"
   ]
  },
  {
   "cell_type": "code",
   "execution_count": 205,
   "id": "dbf13419-b55a-4aba-8212-ce15d04c917e",
   "metadata": {},
   "outputs": [
    {
     "data": {
      "text/plain": [
       "24"
      ]
     },
     "execution_count": 205,
     "metadata": {},
     "output_type": "execute_result"
    }
   ],
   "source": [
    "## Task 7,8\n",
    "count = df_t6[\"hour\"].value_counts(normalize=True)\n",
    "count"
   ]
  },
  {
   "cell_type": "code",
   "execution_count": 215,
   "id": "deb14996-1cf0-4493-9846-9974a7f0113f",
   "metadata": {},
   "outputs": [],
   "source": [
    "# Task 9\n",
    "df_t6[\"count\"] = count"
   ]
  },
  {
   "cell_type": "code",
   "execution_count": null,
   "id": "1081952e-9bce-41ab-af12-b8466f7e0362",
   "metadata": {},
   "outputs": [],
   "source": []
  }
 ],
 "metadata": {
  "kernelspec": {
   "display_name": "Python 3 (ipykernel)",
   "language": "python",
   "name": "python3"
  },
  "language_info": {
   "codemirror_mode": {
    "name": "ipython",
    "version": 3
   },
   "file_extension": ".py",
   "mimetype": "text/x-python",
   "name": "python",
   "nbconvert_exporter": "python",
   "pygments_lexer": "ipython3",
   "version": "3.9.4"
  }
 },
 "nbformat": 4,
 "nbformat_minor": 5
}
