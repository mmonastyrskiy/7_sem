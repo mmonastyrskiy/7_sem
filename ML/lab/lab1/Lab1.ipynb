{
 "cells": [
  {
   "cell_type": "code",
   "execution_count": 1,
   "id": "89a70550-5827-4f42-8e50-00f6617a016c",
   "metadata": {},
   "outputs": [],
   "source": [
    "import zipfile\n",
    "with zipfile.ZipFile(\"archive.zip\",\"r\") as f:\n",
    "    f.extractall(\".\")\n"
   ]
  },
  {
   "cell_type": "code",
   "execution_count": 2,
   "id": "d4609977-45be-45f2-91f7-31f2fcd0446b",
   "metadata": {},
   "outputs": [],
   "source": [
    "import pandas as pd\n",
    "pd.options.mode.chained_assignment = None"
   ]
  },
  {
   "cell_type": "code",
   "execution_count": 89,
   "id": "ef4eb872-dce1-4d96-a11b-d5d65b3890eb",
   "metadata": {},
   "outputs": [
    {
     "data": {
      "text/plain": [
       "lat                     float64\n",
       "ing                     float64\n",
       "desc                     object\n",
       "zip                     float64\n",
       "title                    object\n",
       "accident_time    datetime64[ns]\n",
       "town                     object\n",
       "address                  object\n",
       "e                         int64\n",
       "dtype: object"
      ]
     },
     "execution_count": 89,
     "metadata": {},
     "output_type": "execute_result"
    }
   ],
   "source": [
    "## Task 1\n",
    "df = pd.read_csv(\"911.csv\",\n",
    "                 encoding=\"cp1251\",\n",
    "                names=[\"lat\", \"ing\", \"desc\", \"zip\", \"title\", \"accident_time\", \"town\", \"address\", \"e\"],\n",
    "                 skiprows=1,\n",
    "                parse_dates=[\"accident_time\"])\n",
    "df.dtypes"
   ]
  },
  {
   "cell_type": "code",
   "execution_count": 4,
   "id": "e2dda634-9672-4a63-81c0-9b85d515c0b6",
   "metadata": {},
   "outputs": [
    {
     "data": {
      "text/plain": [
       "lat                     float64\n",
       "ing                     float64\n",
       "title                    object\n",
       "accident_time    datetime64[ns]\n",
       "town                     object\n",
       "dtype: object"
      ]
     },
     "execution_count": 4,
     "metadata": {},
     "output_type": "execute_result"
    }
   ],
   "source": [
    "## TASK 2 \n",
    "df.drop([\"desc\",\"zip\",\"address\",\"e\"],inplace=True,axis=1)\n",
    "df.dtypes"
   ]
  },
  {
   "cell_type": "code",
   "execution_count": 5,
   "id": "07b59f5b-41fe-4723-b7fb-70051940feb7",
   "metadata": {},
   "outputs": [],
   "source": [
    "## Task 3\n",
    "df = df.iloc[:,[-1,0,1,3,2]]"
   ]
  },
  {
   "cell_type": "code",
   "execution_count": 6,
   "id": "06cae4c1-e4bd-4f65-8cac-878fe283a620",
   "metadata": {},
   "outputs": [
    {
     "data": {
      "text/html": [
       "<div>\n",
       "<style scoped>\n",
       "    .dataframe tbody tr th:only-of-type {\n",
       "        vertical-align: middle;\n",
       "    }\n",
       "\n",
       "    .dataframe tbody tr th {\n",
       "        vertical-align: top;\n",
       "    }\n",
       "\n",
       "    .dataframe thead th {\n",
       "        text-align: right;\n",
       "    }\n",
       "</style>\n",
       "<table border=\"1\" class=\"dataframe\">\n",
       "  <thead>\n",
       "    <tr style=\"text-align: right;\">\n",
       "      <th></th>\n",
       "      <th>town</th>\n",
       "      <th>lat</th>\n",
       "      <th>ing</th>\n",
       "      <th>accident_time</th>\n",
       "      <th>title</th>\n",
       "    </tr>\n",
       "  </thead>\n",
       "  <tbody>\n",
       "    <tr>\n",
       "      <th>0</th>\n",
       "      <td>NEW HANOVER</td>\n",
       "      <td>40.297876</td>\n",
       "      <td>-75.581294</td>\n",
       "      <td>2015-12-10 17:10:52</td>\n",
       "      <td>EMS: BACK PAINS/INJURY</td>\n",
       "    </tr>\n",
       "  </tbody>\n",
       "</table>\n",
       "</div>"
      ],
      "text/plain": [
       "          town        lat        ing       accident_time  \\\n",
       "0  NEW HANOVER  40.297876 -75.581294 2015-12-10 17:10:52   \n",
       "\n",
       "                    title  \n",
       "0  EMS: BACK PAINS/INJURY  "
      ]
     },
     "execution_count": 6,
     "metadata": {},
     "output_type": "execute_result"
    }
   ],
   "source": [
    "df.head(1)"
   ]
  },
  {
   "cell_type": "code",
   "execution_count": 70,
   "id": "6108bb68-7e7e-409d-9757-590c0ee0e789",
   "metadata": {},
   "outputs": [],
   "source": [
    "#Task 4 \n",
    "towns_df = df[\"town\"].value_counts(ascending=True)"
   ]
  },
  {
   "cell_type": "code",
   "execution_count": 71,
   "id": "3ca56d81-ffef-4066-a618-f5dbd69704e3",
   "metadata": {},
   "outputs": [
    {
     "data": {
      "text/plain": [
       "LEHIGH COUNTY        190\n",
       "PHILA COUNTY         267\n",
       "GREEN LANE           385\n",
       "BRYN ATHYN          1254\n",
       "EAST GREENVILLE     1316\n",
       "                   ...  \n",
       "CHELTENHAM         30574\n",
       "UPPER MERION       36010\n",
       "NORRISTOWN         37633\n",
       "ABINGTON           39947\n",
       "LOWER MERION       55490\n",
       "Name: town, Length: 68, dtype: int64"
      ]
     },
     "execution_count": 71,
     "metadata": {},
     "output_type": "execute_result"
    }
   ],
   "source": [
    "towns_df"
   ]
  },
  {
   "cell_type": "code",
   "execution_count": 87,
   "id": "4e48a1db-8d3c-4cbe-b111-1683b337098d",
   "metadata": {},
   "outputs": [
    {
     "data": {
      "text/plain": [
       "town                     object\n",
       "lat                     float64\n",
       "ing                     float64\n",
       "accident_time    datetime64[ns]\n",
       "title                    object\n",
       "dtype: object"
      ]
     },
     "execution_count": 87,
     "metadata": {},
     "output_type": "execute_result"
    }
   ],
   "source": [
    "## TASK 5\n",
    "t5_df = df[df[\"town\"].isin(towns_df.iloc[[0,1,-1,-2]].index.tolist())]\n",
    "t5_df\n",
    "t5_df.dtypes"
   ]
  },
  {
   "cell_type": "code",
   "execution_count": 73,
   "id": "134606c6-436f-42ab-8ee5-c534aada886b",
   "metadata": {},
   "outputs": [],
   "source": [
    "## Task 6\n",
    "df_t6 = df[~df[\"town\"].isin(towns_df.iloc[[0,1,-1,-2]].index.tolist())].dropna(subset=[\"town\"])\n",
    "df_t6\n",
    "df_t6[\"hour\"] = df_t6[\"accident_time\"].dt.hour"
   ]
  },
  {
   "cell_type": "code",
   "execution_count": 155,
   "id": "dbf13419-b55a-4aba-8212-ce15d04c917e",
   "metadata": {},
   "outputs": [
    {
     "data": {
      "text/plain": [
       "hour        int64\n",
       "counts    float64\n",
       "dtype: object"
      ]
     },
     "execution_count": 155,
     "metadata": {},
     "output_type": "execute_result"
    }
   ],
   "source": [
    "## Task 7,8\n",
    "count = df_t6[\"hour\"].value_counts(normalize=True,sort=True)\n",
    "count = pd.DataFrame(count)\n",
    "count = count.reset_index()\n",
    "count.columns = ['hour', 'counts']\n",
    "\n",
    "count.dtypes"
   ]
  },
  {
   "cell_type": "code",
   "execution_count": 156,
   "id": "deb14996-1cf0-4493-9846-9974a7f0113f",
   "metadata": {},
   "outputs": [
    {
     "data": {
      "text/plain": [
       "<matplotlib.legend.Legend at 0x1d4359170d0>"
      ]
     },
     "execution_count": 156,
     "metadata": {},
     "output_type": "execute_result"
    },
    {
     "data": {
      "image/png": "[encoded data removed]",
      "text/plain": [
       "<Figure size 640x480 with 1 Axes>"
      ]
     },
     "metadata": {},
     "output_type": "display_data"
    }
   ],
   "source": [
    "# Task 9\n",
    "import numpy as np\n",
    "from matplotlib import pyplot as plt\n",
    "import seaborn as sns\n",
    "\n",
    "\n",
    "np.random.seed(365)\n",
    "x1 = np.random.normal(0.02, 0.05, size=24) \n",
    "ndf = pd.DataFrame({'x1': x1})\n",
    "x1\n",
    "\n",
    "#sns.distplot(count)\n",
    "\n",
    "\n",
    "sns.histplot(\n",
    "    count[\"counts\"], kde=True,\n",
    "    stat=\"density\", kde_kws=dict(cut=3),\n",
    "    bins=24, color=\"blue\",label=\"Плотность распределения звоноков 911\"\n",
    ")\n",
    "\n",
    "\n",
    "\n",
    "\n",
    "\n",
    "sns.histplot(\n",
    "    ndf[\"x1\"], kde=True,\n",
    "    stat=\"density\", kde_kws=dict(cut=3),\n",
    "    bins=24, color=\"red\",label=\"Плотность нормального распределения\"\n",
    ")\n",
    "plt.legend()\n"
   ]
  },
  {
   "cell_type": "code",
   "execution_count": null,
   "id": "1081952e-9bce-41ab-af12-b8466f7e0362",
   "metadata": {},
   "outputs": [],
   "source": []
  },
  {
   "cell_type": "code",
   "execution_count": 162,
   "id": "946eeca6-5392-4b64-b98e-101611f28280",
   "metadata": {},
   "outputs": [
    {
     "data": {
      "text/plain": [
       "<AxesSubplot:xlabel='hour', ylabel='counts'>"
      ]
     },
     "execution_count": 162,
     "metadata": {},
     "output_type": "execute_result"
    },
    {
     "data": {
      "image/png": "[encoded data removed]",
      "text/plain": [
       "<Figure size 640x480 with 1 Axes>"
      ]
     },
     "metadata": {},
     "output_type": "display_data"
    }
   ],
   "source": [
    "#Task 10\n",
    "plt.xlim(-1,26)\n",
    "sns.regplot(data=count,x=\"hour\",y=\"counts\")"
   ]
  },
  {
   "cell_type": "code",
   "execution_count": null,
   "id": "61c16c11-02b0-46c6-ae9f-ae9e8dea2f97",
   "metadata": {},
   "outputs": [],
   "source": []
  },
  {
   "cell_type": "code",
   "execution_count": null,
   "id": "7c29123a-1609-4303-b9d6-adf43365b0a2",
   "metadata": {},
   "outputs": [],
   "source": []
  }
 ],
 "metadata": {
  "kernelspec": {
   "display_name": "Python 3 (ipykernel)",
   "language": "python",
   "name": "python3"
  },
  "language_info": {
   "codemirror_mode": {
    "name": "ipython",
    "version": 3
   },
   "file_extension": ".py",
   "mimetype": "text/x-python",
   "name": "python",
   "nbconvert_exporter": "python",
   "pygments_lexer": "ipython3",
   "version": "3.9.4"
  }
 },
 "nbformat": 4,
 "nbformat_minor": 5
}
